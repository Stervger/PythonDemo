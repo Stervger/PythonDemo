{
 "cells": [
  {
   "cell_type": "markdown",
   "metadata": {},
   "source": [
    "### 函数是组织好的，可重复使用的，用来实现单一，或相关联功能的代码段。"
   ]
  },
  {
   "cell_type": "markdown",
   "metadata": {},
   "source": [
    "# 定义函数\n",
    "    def 函数名（参数列表）:\n",
    "          ['''注释''']\n",
    "          函数体\n",
    "\n",
    "以下是简单的规则：\n",
    "\n",
    "* 函数代码块以 def 关键词开头，后接函数标识符名称和圆括号 ()。  \n",
    "* 任何传入参数和自变量必须放在圆括号中间，圆括号之间可以用于定义参数。  \n",
    "* 函数的第一行语句可以选择性地使用文档字符串—用于存放函数说明。  \n",
    "* 函数内容以冒号起始，并且缩进。  \n",
    "* return [表达式] 结束函数，选择性地返回一个值给调用方。不带表达式的return相当于返回 None。  \n",
    "\n",
    "函数体内部的语句在执行时，一旦执行到return时，函数就执行完毕，并将结果返回。  \n",
    "如果没有return语句，函数执行完毕后也会返回结果，只是结果为None。return None可以简写为return。"
   ]
  },
  {
   "cell_type": "code",
   "execution_count": 2,
   "metadata": {},
   "outputs": [],
   "source": [
    "#不带参数\n",
    "def hello() :\n",
    "    print(\"Hello World!\")"
   ]
  },
  {
   "cell_type": "code",
   "execution_count": 3,
   "metadata": {},
   "outputs": [],
   "source": [
    "#带参数\n",
    "#判断一个整数是否是奇数\n",
    "def is_odd(n):\n",
    "    return n % 2 == 1"
   ]
  },
  {
   "cell_type": "markdown",
   "metadata": {},
   "source": [
    "# 函数调用\n",
    "\n",
    "    函数名(参数值列表)"
   ]
  },
  {
   "cell_type": "code",
   "execution_count": 4,
   "metadata": {},
   "outputs": [
    {
     "name": "stdout",
     "output_type": "stream",
     "text": [
      "Hello World!\n"
     ]
    },
    {
     "ename": "TypeError",
     "evalue": "not all arguments converted during string formatting",
     "output_type": "error",
     "traceback": [
      "\u001b[0;31m---------------------------------------------------------------------------\u001b[0m",
      "\u001b[0;31mTypeError\u001b[0m                                 Traceback (most recent call last)",
      "\u001b[0;32m<ipython-input-4-816a79774705>\u001b[0m in \u001b[0;36m<module>\u001b[0;34m\u001b[0m\n\u001b[1;32m      1\u001b[0m \u001b[0mhello\u001b[0m\u001b[0;34m(\u001b[0m\u001b[0;34m)\u001b[0m\u001b[0;34m\u001b[0m\u001b[0;34m\u001b[0m\u001b[0m\n\u001b[0;32m----> 2\u001b[0;31m \u001b[0mis_odd\u001b[0m\u001b[0;34m(\u001b[0m\u001b[0;34m'd'\u001b[0m\u001b[0;34m)\u001b[0m\u001b[0;34m\u001b[0m\u001b[0;34m\u001b[0m\u001b[0m\n\u001b[0m",
      "\u001b[0;32m<ipython-input-3-655a7f34b589>\u001b[0m in \u001b[0;36mis_odd\u001b[0;34m(n)\u001b[0m\n\u001b[1;32m      2\u001b[0m \u001b[0;31m#判断一个整数是否是奇数\u001b[0m\u001b[0;34m\u001b[0m\u001b[0;34m\u001b[0m\u001b[0;34m\u001b[0m\u001b[0m\n\u001b[1;32m      3\u001b[0m \u001b[0;32mdef\u001b[0m \u001b[0mis_odd\u001b[0m\u001b[0;34m(\u001b[0m\u001b[0mn\u001b[0m\u001b[0;34m)\u001b[0m\u001b[0;34m:\u001b[0m\u001b[0;34m\u001b[0m\u001b[0;34m\u001b[0m\u001b[0m\n\u001b[0;32m----> 4\u001b[0;31m     \u001b[0;32mreturn\u001b[0m \u001b[0mn\u001b[0m \u001b[0;34m%\u001b[0m \u001b[0;36m2\u001b[0m \u001b[0;34m==\u001b[0m \u001b[0;36m1\u001b[0m\u001b[0;34m\u001b[0m\u001b[0;34m\u001b[0m\u001b[0m\n\u001b[0m",
      "\u001b[0;31mTypeError\u001b[0m: not all arguments converted during string formatting"
     ]
    }
   ],
   "source": [
    "hello()\n",
    "is_odd('d')"
   ]
  },
  {
   "cell_type": "code",
   "execution_count": 144,
   "metadata": {},
   "outputs": [
    {
     "name": "stdout",
     "output_type": "stream",
     "text": [
      "False\n",
      "30\n"
     ]
    }
   ],
   "source": [
    "print(is_odd(48))\n",
    "print(area(3,10))"
   ]
  },
  {
   "cell_type": "markdown",
   "metadata": {},
   "source": [
    "# 参数检查\n",
    "调用函数时，如果参数个数不对，Python解释器会自动检查出来，并抛出TypeError。但是如果参数类型不对，Python解释器就无法帮我们检查。   \n",
    "数据类型检查可以用内置函数isinstance()实现。"
   ]
  },
  {
   "cell_type": "code",
   "execution_count": 8,
   "metadata": {},
   "outputs": [],
   "source": [
    "def is_odd(n):\n",
    "    if not isinstance(n, int):\n",
    "        raise TypeError('bad operand type')\n",
    "    else:\n",
    "        return n % 2 == 1"
   ]
  },
  {
   "cell_type": "code",
   "execution_count": 5,
   "metadata": {},
   "outputs": [
    {
     "data": {
      "text/plain": [
       "False"
      ]
     },
     "execution_count": 5,
     "metadata": {},
     "output_type": "execute_result"
    }
   ],
   "source": [
    "is_odd(4)"
   ]
  },
  {
   "cell_type": "markdown",
   "metadata": {},
   "source": [
    "# 练习：函数定义及调用\n",
    "1. 定义函数，判断一个数是否是偶数，如果是返回True，否则返回False。\n",
    "2. 定义函数，判断一个数是否是十位和个位相等的数，如果是返回True，否则返回False。\n",
    "3. 定义函数，根据长宽高，计算长方体体积，返回体积。"
   ]
  },
  {
   "cell_type": "code",
   "execution_count": 18,
   "metadata": {},
   "outputs": [],
   "source": [
    "def test(n):\n",
    "    if not isinstance(n, int):\n",
    "            raise TypeError('bad operand type')\n",
    "    else:\n",
    "        return n%10 == n//10%10"
   ]
  },
  {
   "cell_type": "code",
   "execution_count": 41,
   "metadata": {},
   "outputs": [],
   "source": [
    "def test2(a, c, b=2):\n",
    "    if not isinstance(a, (int,float)) or not isinstance(b, (int,float)) or not isinstance(c, (int,float)):\n",
    "            raise TypeError('bad operand type')\n",
    "    else:\n",
    "        return a*b*c"
   ]
  },
  {
   "cell_type": "code",
   "execution_count": 42,
   "metadata": {},
   "outputs": [
    {
     "data": {
      "text/plain": [
       "39.599999999999994"
      ]
     },
     "execution_count": 42,
     "metadata": {},
     "output_type": "execute_result"
    }
   ],
   "source": [
    "test2(c=3, 2)\n"
   ]
  },
  {
   "cell_type": "code",
   "execution_count": 29,
   "metadata": {},
   "outputs": [
    {
     "data": {
      "text/plain": [
       "82.8"
      ]
     },
     "execution_count": 29,
     "metadata": {},
     "output_type": "execute_result"
    }
   ],
   "source": [
    "test(3122)\n"
   ]
  },
  {
   "cell_type": "markdown",
   "metadata": {},
   "source": [
    "# 参数传递\n",
    "**不可变类型：**  \n",
    "    如 整数、字符串、元组。如fun（a），传递的只是a的值，没有影响a对象本身。比如在 fun（a）内部修改 a 的值，只是修改另一个复制的对象，不会影响 a 本身。\n",
    "\n",
    "**可变类型：**  \n",
    "    如 列表，字典，集合。如 fun（la），则是将 la 真正的传过去，修改后fun外部的la也会受影响"
   ]
  },
  {
   "cell_type": "code",
   "execution_count": 4,
   "metadata": {},
   "outputs": [
    {
     "name": "stdout",
     "output_type": "stream",
     "text": [
      "函数内： 10\n",
      "函数外： 2\n"
     ]
    }
   ],
   "source": [
    "#传不可变类型对象\n",
    "def ChangeInt( b ):\n",
    "    b = 10\n",
    "    print('函数内：', b)\n",
    " \n",
    "b = 2\n",
    "ChangeInt(b)\n",
    "print( '函数外：', b ) # 结果是 2"
   ]
  },
  {
   "cell_type": "code",
   "execution_count": 5,
   "metadata": {},
   "outputs": [
    {
     "name": "stdout",
     "output_type": "stream",
     "text": [
      "1: 10\n",
      "2: 2\n"
     ]
    }
   ],
   "source": [
    "def ChangeInt( b ):\n",
    "    b = 10\n",
    "    print( '1:', b )\n",
    "\n",
    "b = 2\n",
    "ChangeInt(b)\n",
    "print( '2:', b ) "
   ]
  },
  {
   "cell_type": "code",
   "execution_count": 10,
   "metadata": {},
   "outputs": [
    {
     "name": "stdout",
     "output_type": "stream",
     "text": [
      "函数内:  [10, 20, 30, [1, 2, 3, 4]]\n",
      "函数外:  [10, 20, 30, [1, 2, 3, 4]]\n"
     ]
    }
   ],
   "source": [
    "#传可变类型对象\n",
    "def changelist( mylist ):\n",
    "   \"修改传入的列表\"\n",
    "   mylist.append([1,2,3,4])\n",
    "   print (\"函数内: \", mylist)\n",
    "   return\n",
    "\n",
    "mylist = [10,20,30]\n",
    "changelist( mylist )\n",
    "print (\"函数外: \", mylist)"
   ]
  },
  {
   "cell_type": "markdown",
   "metadata": {},
   "source": [
    "# 参数检查\n",
    "调用函数时，如果参数个数不对，Python解释器会自动检查出来，并抛出TypeError。但是如果参数类型不对，Python解释器就无法帮我们检查。 数据类型检查可以用内置函数isinstance()实现。"
   ]
  },
  {
   "cell_type": "code",
   "execution_count": 21,
   "metadata": {},
   "outputs": [
    {
     "data": {
      "text/plain": [
       "3.6"
      ]
     },
     "execution_count": 21,
     "metadata": {},
     "output_type": "execute_result"
    }
   ],
   "source": [
    "def my_abs(x):\n",
    "    if not isinstance(x, (int, float)):\n",
    "        raise TypeError('bad operand type')\n",
    "    if x >= 0:\n",
    "        return x\n",
    "    else:\n",
    "        return -x\n",
    "\n",
    "my_abs( -3.6 )"
   ]
  },
  {
   "cell_type": "markdown",
   "metadata": {},
   "source": [
    "# 参数类型\n",
    "\n",
    "* 位置参数\n",
    "* 关键字参数\n",
    "* 默认参数\n",
    "* 不定长参数"
   ]
  },
  {
   "cell_type": "markdown",
   "metadata": {},
   "source": [
    "## 位置参数\n",
    "传入的参数是按照位置顺序依次传递的。(坏处是需要记住每个位置的参数的意义，容易记混而出错)"
   ]
  },
  {
   "cell_type": "code",
   "execution_count": 30,
   "metadata": {},
   "outputs": [],
   "source": [
    "# 定义一个函数subtract，计算x-y\n",
    "# x和y称为参数，具体的说是形参\n",
    "def subtract(x, y):\n",
    "    return x-y"
   ]
  },
  {
   "cell_type": "code",
   "execution_count": 27,
   "metadata": {},
   "outputs": [
    {
     "name": "stdout",
     "output_type": "stream",
     "text": [
      "-1\n",
      "1\n"
     ]
    }
   ],
   "source": [
    "print( subtract(3, 4) )\n",
    "print( subtract(4, 3) )"
   ]
  },
  {
   "cell_type": "markdown",
   "metadata": {},
   "source": [
    "## 关键字参数\n",
    "* 关键字参数可以在调用的时候指定参数的名字，这样就避免了位置参数所带来的坏处了。  \n",
    "* 关键字参数也可以不按顺序的调用，也可以和位置参数混合调用。  \n",
    "**注意：位置参数必须要在关键字参数的前面调用**"
   ]
  },
  {
   "cell_type": "code",
   "execution_count": 33,
   "metadata": {},
   "outputs": [
    {
     "name": "stdout",
     "output_type": "stream",
     "text": [
      "1\n",
      "1\n"
     ]
    }
   ],
   "source": [
    "# 使用关键字参数调用函数\n",
    "print(substract(x=2,y=4))\n",
    "\n",
    "# 不按顺序的关键字参数调用\n",
    "print(substract(y=4,x=2))\n",
    "\n",
    "# 和位置参数混合使用\n",
    "print(substract(4,y=2))\n",
    "\n",
    "# 这种方式是不对的\n",
    "#print( subtract(y=2, 4) )         #位置参数在关键字参数后面"
   ]
  },
  {
   "cell_type": "markdown",
   "metadata": {},
   "source": [
    "## 默认参数\n",
    "* 函数定义时候指定的默认参数，在调用时候，如果没有提供对应的参数，则用默认参数替代，否则就用提供的参数。  \n",
    "**注意：默认参数必须在位置参数之后**  \n",
    "**默认参数必须指向不变对象！**"
   ]
  },
  {
   "cell_type": "code",
   "execution_count": 12,
   "metadata": {},
   "outputs": [],
   "source": [
    "def subtract(x, y=4): \n",
    "    return x-y"
   ]
  },
  {
   "cell_type": "code",
   "execution_count": 13,
   "metadata": {},
   "outputs": [
    {
     "name": "stdout",
     "output_type": "stream",
     "text": [
      "-2\n",
      "-1\n",
      "0\n"
     ]
    }
   ],
   "source": [
    "print(subtract(x=2))\n",
    "print(subtract())                #x没有默认值\n",
    "print(subtract(3)) \n",
    "print(subtract(y=2))          #x没有默认值\n",
    "print(subtract(1,1))             #提供两个参数，新值取代默认值"
   ]
  },
  {
   "cell_type": "markdown",
   "metadata": {},
   "source": [
    "## 可变参数\n",
    "可变参数就是传入的参数个数是可变的。"
   ]
  },
  {
   "cell_type": "code",
   "execution_count": 65,
   "metadata": {},
   "outputs": [
    {
     "name": "stdout",
     "output_type": "stream",
     "text": [
      "14\n",
      "84\n"
     ]
    },
    {
     "data": {
      "text/plain": [
       "285"
      ]
     },
     "execution_count": 65,
     "metadata": {},
     "output_type": "execute_result"
    }
   ],
   "source": [
    "#给定一组数字a，b，c……，请计算: a²+b²+c²+ ……\n",
    "#要定义出这个函数，我们必须确定输入的参数，但是这里的参数个数不确定。\n",
    "#1.我们首先想到可以把a，b，c……作为一个list、tuple或者set传进来，这样，函数可以定义如下：\n",
    "def calc(numbers):\n",
    "    sum = 0\n",
    "    for n in numbers:\n",
    "        sum = sum + n * n\n",
    "    return sum\n",
    "\n",
    "#调用的时候，需要先组装出一个list或tuple\n",
    "print( calc( [1, 2, 3] ) )\n",
    "print( calc((1, 3, 5, 7)) )\n",
    "\n",
    "data = [1, 2, 3, 4, 5, 6, 7, 8, 9]\n",
    "calc(data)"
   ]
  },
  {
   "cell_type": "code",
   "execution_count": 66,
   "metadata": {},
   "outputs": [
    {
     "data": {
      "text/plain": [
       "285"
      ]
     },
     "execution_count": 66,
     "metadata": {},
     "output_type": "execute_result"
    }
   ],
   "source": [
    "#2.使用可变参数：参数名前加*，加了星号 * 的参数会以元组(tuple)的形式导入，存放所有未命名的变量参数。\n",
    "def calc(*numbers):\n",
    "    sum = 0\n",
    "    for n in numbers:\n",
    "        sum = sum + n * n\n",
    "    return sum\n",
    "\n",
    "\n",
    "#调用该函数时，可以传入任意个参数，包括0个参数。\n",
    "calc(1, 2, 3)\n",
    "calc(1, 3, 5, 7)\n",
    "#如果已经有一个list、tuple或者set，要调用一个可变参数，在list或tuple前面加一个*号，把list、tuple或者set的元素变成可变参数传进去。\n",
    "data = [1, 2, 3, 4, 5, 6, 7, 8, 9]\n",
    "calc(*data)"
   ]
  },
  {
   "cell_type": "code",
   "execution_count": 69,
   "metadata": {},
   "outputs": [
    {
     "name": "stdout",
     "output_type": "stream",
     "text": [
      "10\n",
      "()\n",
      "70\n",
      "(60, 50)\n"
     ]
    }
   ],
   "source": [
    "def printinfo( arg1, *vartuple ):\n",
    "    print (arg1)\n",
    "    print (vartuple)\n",
    "\n",
    "printinfo( 10 )\n",
    "printinfo( 70, 60, 50 )"
   ]
  },
  {
   "cell_type": "markdown",
   "metadata": {},
   "source": [
    "# 练习\n",
    "编写函数，接收任意多个实数，返回一个元组，其中第一个元素为所有参数的平均值，其他元素为所有参数中大于平均值的实数。\n",
    "<font color=\"white\">\n",
    "def demo(*para):\n",
    "    avg = sum(para) / len(para)            #平均值\n",
    "    g = [i for i in para if i>avg]         #列表推导式\n",
    "    return (avg,) + tuple(g)\n",
    "</font>"
   ]
  },
  {
   "cell_type": "code",
   "execution_count": 61,
   "metadata": {},
   "outputs": [
    {
     "name": "stdout",
     "output_type": "stream",
     "text": [
      "name: Michael age: 30 other: {}\n",
      "name: Adam age: 45 other: {'gender': 'M', 'job': 'Engineer'}\n",
      "name: Jack age: 24 other: {'city': 'Beijing', 'job': 'Engineer'}\n"
     ]
    }
   ],
   "source": [
    "#还有一种就是参数带两个星号 **，加了两个星号 ** 的参数会以字典的形式导入。\n",
    "def person(name, age, **kw):\n",
    "    print('name:', name, 'age:', age, 'other:', kw)\n",
    "    \n",
    "person('Michael', 30)\n",
    "person('Adam', 45, gender='M', job='Engineer')\n",
    "\n",
    "extra = {'city': 'Beijing', 'job': 'Engineer'}\n",
    "person('Jack', 24, **extra)"
   ]
  },
  {
   "cell_type": "markdown",
   "metadata": {},
   "source": [
    "# 匿名函数\n",
    "因为没有名字所以叫做匿名函数\n",
    "\n",
    "匿名函数的特点：\n",
    "* lambda 只是一个表达式，函数体比 def 简单很多。\n",
    "* lambda的主体是一个表达式，而不是一个代码块。仅仅能在lambda表达式中封装有限的逻辑进去。\n",
    "* lambda 函数拥有自己的命名空间，且不能访问自己参数列表之外或全局命名空间里的参数。\n",
    "* 匿名函数不需要return来返回值，表达式本身结果就是返回值。"
   ]
  },
  {
   "cell_type": "code",
   "execution_count": 72,
   "metadata": {},
   "outputs": [
    {
     "name": "stdout",
     "output_type": "stream",
     "text": [
      "6\n",
      "6\n"
     ]
    }
   ],
   "source": [
    "# 普通python函数\n",
    "def func(a,b,c):\n",
    "    return a+b+c\n",
    " \n",
    "print(func(1,2,3))\n",
    " \n",
    "# lambda匿名函数\n",
    "f = lambda a,b,c:a+b+c\n",
    " \n",
    "print(f(1,2,3))"
   ]
  },
  {
   "cell_type": "markdown",
   "metadata": {},
   "source": [
    "# 为什么要使用lambda？\n",
    "**lambda优点：**  \n",
    "* 使用Python写一些执行脚本时，使用lambda可以省去定义函数的过程，让代码更加精简。  \n",
    "* 对于一些抽象的，不会别的地方再复用的函数，有时候给函数起个名字也是个难题，使用lambda不需要考虑命名的问题。  \n",
    "* 使用lambda在某些时候让代码更容易理解。  \n",
    "* lambda所表示的匿名函数的内容应该是很简单的，如果复杂的话，干脆就重新定义一个函数了，使用lambda就有点过于执拗了。"
   ]
  },
  {
   "cell_type": "markdown",
   "metadata": {},
   "source": [
    "# filter函数\n",
    "filter(function, iterable)函数用于过滤序列，过滤掉不符合条件的元素，返回一个迭代器对象，如果要转换为列表，可以使用 list() 来转换。  \n",
    "接收两个参数，第一个为函数，第二个为序列，序列的每个元素作为参数传递给函数进行判定，然后返回 True 或 False，最后将返回 True 的元素放到新列表中。"
   ]
  },
  {
   "cell_type": "code",
   "execution_count": 101,
   "metadata": {},
   "outputs": [
    {
     "name": "stdout",
     "output_type": "stream",
     "text": [
      "<filter object at 0x10aa81c18>\n",
      "[1, 3, 5, 7, 9]\n"
     ]
    }
   ],
   "source": [
    "#过滤出列表中的所有奇数：\n",
    "def is_odd(n):\n",
    "    return n % 2 == 1 \n",
    "fl = filter(is_odd, range(1,10))\n",
    "\n",
    "fl = filter(lambda n : n % 2 == 1, range(1,10))\n",
    "\n",
    "print(fl)\n",
    "newlist = list(fl)\n",
    "print(newlist)\n",
    "\n"
   ]
  },
  {
   "cell_type": "code",
   "execution_count": 43,
   "metadata": {},
   "outputs": [
    {
     "data": {
      "text/plain": [
       "[{'name': 'gouguoqi', 'age': 18}]"
      ]
     },
     "execution_count": 43,
     "metadata": {},
     "output_type": "execute_result"
    }
   ],
   "source": [
    "# 把列表中小于等于20岁的人过滤出来\n",
    "people=[ {\"name\":\"beiye\",\"age\":90}, {\"name\":\"maioye\",\"age\":28}, {\"name\":\"xiudiannao\",\"age\":70}, {\"name\":\"gouguoqi\",\"age\":18}]\n",
    "list( filter(lambda x : x['age']<=20, people) )\n"
   ]
  },
  {
   "cell_type": "markdown",
   "metadata": {},
   "source": [
    "# 练习 \n",
    "已知列表x = [1, 111, 10, 11, 20, 22, 30, 33, 34]\n",
    "1. 使用filter函数对列表x进行过滤，得到x中所有偶数组成的新列表。\n",
    "2. 使用filter函数对列表x进行过滤，得到x中十位和个位相等的两位数组成的新列表。\n",
    "\n",
    "3. 使用lambda函数找出列表x中的偶数，构建新列表y。\n",
    "<font color=\"white\"> list(filter(lambda i:i%2==0, x)) </font>\n",
    "4. 使用lambda函数找出其中列表x中十位和个位相等的两位数，构建新列表y。\n",
    "<font color = \"white\"> list(filter(lambda i: 9<i<99 and x%10 == x//10, x)) </font>\n",
    "<font color = \"white\"> list(filter(lambda i: 9<i<99 and str(i)[0]==str(i)[1], x)) </font>\n"
   ]
  },
  {
   "cell_type": "code",
   "execution_count": null,
   "metadata": {},
   "outputs": [],
   "source": [
    "x = [1, 111, 10, 11, 20, 22, 30, 33, 34]\n",
    "def xxx(n):\n",
    "    if n%10 == n//10:\n",
    "            return True\n",
    "    else:\n",
    "            return False\n",
    "        \n",
    "list(filter(xxx, x))"
   ]
  },
  {
   "cell_type": "code",
   "execution_count": 22,
   "metadata": {},
   "outputs": [],
   "source": [
    "f =lambda x: x%10 == x//10"
   ]
  },
  {
   "cell_type": "code",
   "execution_count": 25,
   "metadata": {},
   "outputs": [
    {
     "data": {
      "text/plain": [
       "[11, 22, 33]"
      ]
     },
     "execution_count": 25,
     "metadata": {},
     "output_type": "execute_result"
    }
   ],
   "source": [
    "x = [1, 111, 10, 11, 20, 22, 30, 33, 34]\n",
    "list(filter(f, x)) "
   ]
  },
  {
   "cell_type": "code",
   "execution_count": 27,
   "metadata": {},
   "outputs": [
    {
     "data": {
      "text/plain": [
       "[11, 22, 33]"
      ]
     },
     "execution_count": 27,
     "metadata": {},
     "output_type": "execute_result"
    }
   ],
   "source": [
    "x = [1, 111, 10, 11, 20, 22, 30, 33, 34]\n",
    "list( filter(lambda n :  n%10 == n//10, x) )"
   ]
  },
  {
   "cell_type": "markdown",
   "metadata": {},
   "source": [
    "# map函数\n",
    "map(function, iterable, ...)函数会根据提供的函数对指定序列做映射。  \n",
    "接收两个参数，第一个为函数，第二个为序列，以参数序列中的每一个元素调用 function 函数，返回包含每次 function 函数返回值的新列表。"
   ]
  },
  {
   "cell_type": "code",
   "execution_count": 128,
   "metadata": {},
   "outputs": [
    {
     "name": "stdout",
     "output_type": "stream",
     "text": [
      "<map object at 0x10aa9b0f0>\n"
     ]
    },
    {
     "data": {
      "text/plain": [
       "[True, False, True, False, True, False, True, False, True]"
      ]
     },
     "execution_count": 128,
     "metadata": {},
     "output_type": "execute_result"
    }
   ],
   "source": [
    "def is_odd(n):\n",
    "    return n % 2 == 1 \n",
    "\n",
    "print(map(is_odd, range(1,10)) )\n",
    "list( map(is_odd, range(1,10)) )"
   ]
  },
  {
   "cell_type": "code",
   "execution_count": 104,
   "metadata": {},
   "outputs": [
    {
     "data": {
      "text/plain": [
       "[1, 4, 9, 16, 25]"
      ]
     },
     "execution_count": 104,
     "metadata": {},
     "output_type": "execute_result"
    }
   ],
   "source": [
    "def square(x) :             # 计算平方数\n",
    "    return x ** 2\n",
    "\n",
    "list( map(square, [1,2,3,4,5]) )         # 计算列表各个元素的平方"
   ]
  },
  {
   "cell_type": "code",
   "execution_count": 105,
   "metadata": {},
   "outputs": [
    {
     "data": {
      "text/plain": [
       "[2, 4, 4, 16, 6]"
      ]
     },
     "execution_count": 105,
     "metadata": {},
     "output_type": "execute_result"
    }
   ],
   "source": [
    "list( map(lambda x: x ** 2, [1, 2, 3, 4, 5]) )        # 使用 lambda 匿名函数\n",
    "\n",
    "list( map(lambda x: x ** 2 if x%2==0 else x+1, [1, 2, 3, 4, 5]) )    "
   ]
  },
  {
   "cell_type": "code",
   "execution_count": 13,
   "metadata": {},
   "outputs": [
    {
     "data": {
      "text/plain": [
       "[3, 7, 11, 15, 19]"
      ]
     },
     "execution_count": 13,
     "metadata": {},
     "output_type": "execute_result"
    }
   ],
   "source": [
    "# 提供了两个列表，对相同位置的列表数据进行相加\n",
    "list( map(lambda x, y : x + y, [1, 3, 5, 7, 9], [2, 4, 6, 8, 10]) )"
   ]
  },
  {
   "cell_type": "markdown",
   "metadata": {},
   "source": [
    "# 练习：求解100以内所有能被3整除且能被5整除的所有数的平方"
   ]
  },
  {
   "cell_type": "code",
   "execution_count": 49,
   "metadata": {},
   "outputs": [
    {
     "ename": "SyntaxError",
     "evalue": "invalid syntax (<ipython-input-49-6f4e25fa9fc8>, line 2)",
     "output_type": "error",
     "traceback": [
      "\u001b[1;36m  File \u001b[1;32m\"<ipython-input-49-6f4e25fa9fc8>\"\u001b[1;36m, line \u001b[1;32m2\u001b[0m\n\u001b[1;33m    list( map(lambda x: x if x%3==0 and x%5==0, else return x, a) )\u001b[0m\n\u001b[1;37m                                              ^\u001b[0m\n\u001b[1;31mSyntaxError\u001b[0m\u001b[1;31m:\u001b[0m invalid syntax\n"
     ]
    }
   ],
   "source": [
    "a = list(range(1,101))\n",
    "list( map(lambda x: x if x%3==0 and x%5==0 else a.remove(x), a) ) "
   ]
  },
  {
   "cell_type": "markdown",
   "metadata": {},
   "source": [
    "# reduce函数\n",
    "reduce() 函数会对参数序列中元素进行累积。  \n",
    "函数将一个数据集合（链表，元组等）中的所有数据进行下列操作：  \n",
    "用传给 reduce 中的函数 function（有两个参数）先对集合中的第 1、2 个元素进行操作，  \n",
    "得到的结果再与第三个数据用 function 函数运算，最后得到一个结果。  "
   ]
  },
  {
   "cell_type": "code",
   "execution_count": 15,
   "metadata": {},
   "outputs": [
    {
     "data": {
      "text/plain": [
       "15"
      ]
     },
     "execution_count": 15,
     "metadata": {},
     "output_type": "execute_result"
    }
   ],
   "source": [
    "from functools import reduce\n",
    "\n",
    "def add(x, y) :                # 两数相加\n",
    "    return x + y\n",
    "\n",
    "reduce( add, [1, 2, 3, 4, 5] )               # 计算列表和：1+2+3+4+5\n",
    "\n",
    "reduce( lambda x, y: x+y, [1, 2, 3, 4, 5] )          # 使用 lambda 匿名函数"
   ]
  },
  {
   "cell_type": "markdown",
   "metadata": {},
   "source": [
    "# 练习：调用reduce函数求解10！"
   ]
  },
  {
   "cell_type": "code",
   "execution_count": null,
   "metadata": {},
   "outputs": [],
   "source": []
  }
 ],
 "metadata": {
  "kernelspec": {
   "display_name": "Python 3",
   "language": "python",
   "name": "python3"
  },
  "language_info": {
   "codemirror_mode": {
    "name": "ipython",
    "version": 3
   },
   "file_extension": ".py",
   "mimetype": "text/x-python",
   "name": "python",
   "nbconvert_exporter": "python",
   "pygments_lexer": "ipython3",
   "version": "3.7.1"
  }
 },
 "nbformat": 4,
 "nbformat_minor": 2
}
