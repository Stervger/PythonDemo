{
 "cells": [
  {
   "cell_type": "markdown",
   "metadata": {},
   "source": [
    "# Python 程序结构\n",
    "\n",
    "程序设计的  三种基本结构：顺序结构、分支结构、循环结构\n",
    "\n",
    "1. 顺序结构：是一种线性、有序的结构，依次执行各语句模块\n",
    "\n",
    "2. 分支结构：根据条件成立与否，选择程序执行的不同路径\n",
    "\n",
    "3. 循环结构：重复执行一个或几个模块，直至满足某一条件\n",
    "\n",
    "## 分支结构\n",
    "\n",
    "Python里面只有一种分支控制，就是if...elif...else... 和很多语言不同，Python不提供switch语句，而是完全依赖if实现switch的功能。\n",
    "\n",
    "Python的if语句的通用格式是：\n",
    "```\n",
    "if <条件判断1>: \n",
    "    <执行1> \n",
    "elif <条件判断2>: \n",
    "    <执行2> \n",
    "elif <条件判断3>: \n",
    "    <执行3> \n",
    "else: <执行4>\n",
    "```\n",
    "* 条件判断部分不需要使用（ ）\n",
    "* 注意每个条件后面的冒号**：**\n",
    "* 注意执行语句块需要整体缩进\n",
    "* 可以没有else"
   ]
  },
  {
   "cell_type": "code",
   "execution_count": 1,
   "metadata": {},
   "outputs": [
    {
     "name": "stdout",
     "output_type": "stream",
     "text": [
      "please input a number56\n",
      "you failed\n"
     ]
    }
   ],
   "source": [
    "x=int(input('please input a number'))\n",
    "if x>60:\n",
    "    print('cong~ you passed')\n",
    "else:\n",
    "    print('you failed')"
   ]
  },
  {
   "cell_type": "code",
   "execution_count": 2,
   "metadata": {},
   "outputs": [
    {
     "name": "stdout",
     "output_type": "stream",
     "text": [
      "请输入你出生的年份: 2020\n",
      "老古董\n"
     ]
    }
   ],
   "source": [
    "birthYear = input('请输入你出生的年份: ')\n",
    "decade = int(birthYear[2:])\n",
    "if decade < 10:\n",
    "    print('00后')\n",
    "elif decade < 20:\n",
    "    print('10后')\n",
    "elif decade >= 90:\n",
    "    print('90后')\n",
    "else:\n",
    "    print('老古董')"
   ]
  },
  {
   "cell_type": "markdown",
   "metadata": {},
   "source": [
    "咦，好像有bug，你能把这个代码改正确吗？"
   ]
  },
  {
   "cell_type": "code",
   "execution_count": null,
   "metadata": {},
   "outputs": [],
   "source": []
  },
  {
   "cell_type": "markdown",
   "metadata": {},
   "source": [
    "### Python中的关系运算符可以连续使用\n",
    "这样不仅可以减少代码量，也比较符合人类的思维方式。\n",
    "比如：\n",
    "```\n",
    "a<x<b\n",
    "a<x<=y<b\n",
    "```"
   ]
  },
  {
   "cell_type": "code",
   "execution_count": 4,
   "metadata": {},
   "outputs": [
    {
     "name": "stdout",
     "output_type": "stream",
     "text": [
      "请输入你出生的年份: 2011\n",
      "大叔 or 大妈\n"
     ]
    }
   ],
   "source": [
    "import datetime as dt\n",
    "birthYear = int(input('请输入你出生的年份: '))\n",
    "age = dt.datetime.now().year - birthYear\n",
    "if 10<age<=18:\n",
    "    print('小鲜肉')\n",
    "else:\n",
    "    print('大叔 or 大妈')"
   ]
  },
  {
   "cell_type": "markdown",
   "metadata": {},
   "source": [
    "糟糕，我漏掉了10岁以下的正太或者小萝莉，怎么办？你能把代码补全吗？"
   ]
  },
  {
   "cell_type": "markdown",
   "metadata": {},
   "source": [
    "<div align=\"right\">\n",
    "<a href=\"#assign0\" class=\"btn btn-default\" data-toggle=\"collapse\">点击获取答案</a>\n",
    "</div>\n",
    "<div id=\"assign0\" class=\"collapse\">\n",
    "\n",
    "```python\n",
    "import datetime as dt\n",
    "birthYear = int(input('请输入你出生的年份: '))\n",
    "age = dt.datetime.now().year - birthYear\n",
    "if age<0:\n",
    "    print('未出生baby')\n",
    "elif 0<=age<=10:\n",
    "    print('嫩肉哦')\n",
    "elif 10<age<=18:\n",
    "    print('小鲜肉')\n",
    "else:\n",
    "    print('大叔 or 大妈')\n",
    "```\n",
    "\n",
    "</div>\n",
    "\n"
   ]
  },
  {
   "cell_type": "markdown",
   "metadata": {},
   "source": [
    "### 简化版的if语句："
   ]
  },
  {
   "cell_type": "code",
   "execution_count": 5,
   "metadata": {},
   "outputs": [
    {
     "name": "stdout",
     "output_type": "stream",
     "text": [
      "65\n",
      "老疙瘩\n"
     ]
    }
   ],
   "source": [
    "age=int(input())\n",
    "title = '小鲜肉' if age <=18 else '老疙瘩'\n",
    "print(title)"
   ]
  },
  {
   "cell_type": "code",
   "execution_count": null,
   "metadata": {
    "jupyter": {
     "outputs_hidden": true
    }
   },
   "outputs": [],
   "source": [
    "title = age <=18 ？  '小鲜肉' : '老疙瘩'  # C 语法 3元操作符"
   ]
  },
  {
   "cell_type": "markdown",
   "metadata": {},
   "source": [
    "这种简化版的if在列表推导中非常常见："
   ]
  },
  {
   "cell_type": "code",
   "execution_count": 6,
   "metadata": {},
   "outputs": [
    {
     "data": {
      "text/plain": [
       "[0, -1, 2, -3, 4, -5, 6, -7, 8, -9]"
      ]
     },
     "execution_count": 6,
     "metadata": {},
     "output_type": "execute_result"
    }
   ],
   "source": [
    "[i if i%2==0 else -i for i in range(10)]"
   ]
  },
  {
   "cell_type": "markdown",
   "metadata": {},
   "source": [
    "<H1>Python 以简洁为美！ Less code， less bug！</H1>\n",
    "\n",
    "还可以使用in来进行条件判断："
   ]
  },
  {
   "cell_type": "code",
   "execution_count": 7,
   "metadata": {},
   "outputs": [
    {
     "name": "stdout",
     "output_type": "stream",
     "text": [
      "There's no food I like\n"
     ]
    }
   ],
   "source": [
    "# 定义一个食物名单列表\n",
    "foods = ['potato', 'tomato', 'noodles', 'apple', 'pizza']\n",
    "# 小明最喜欢的食物\n",
    "favorite_food = 'cucumber'\n",
    "# 判断清单中是否有小明喜欢的食物\n",
    "if favorite_food in foods:\n",
    "    print(\"That's my favorite food\", favorite_food)\n",
    "else:\n",
    "    print(\"There's no food I like\")"
   ]
  },
  {
   "cell_type": "code",
   "execution_count": null,
   "metadata": {},
   "outputs": [],
   "source": [
    "day=input('输入中文的周几，比如周一，或者周天：')\n",
    "if ??? :\n",
    "    print('工作日')\n",
    "else:\n",
    "    print('周末')"
   ]
  },
  {
   "cell_type": "markdown",
   "metadata": {},
   "source": [
    "<div align=\"right\">\n",
    "<a href=\"#assign1\" class=\"btn btn-default\" data-toggle=\"collapse\">点击获取答案</a>\n",
    "</div>\n",
    "<div id=\"assign1\" class=\"collapse\">\n",
    "\n",
    "```python\n",
    "day=input('输入中文的周几，比如周一，或者周天：')\n",
    "if day in '周一周二周三周四周五' :\n",
    "    print('工作日')\n",
    "else:\n",
    "    print('周末')\n",
    "```\n",
    "\n",
    "</div>\n",
    "\n"
   ]
  },
  {
   "cell_type": "markdown",
   "metadata": {
    "toc-hr-collapsed": false
   },
   "source": [
    "\n",
    "\n",
    "----\n",
    "\n",
    "##  循环结构\n"
   ]
  },
  {
   "cell_type": "markdown",
   "metadata": {},
   "source": [
    "### for 循环\n",
    "\n",
    "Python 不支持传统的C语言for循环写法，只能使用快速遍历的写法。因为for循环的本质是就是对一个序列上的元素进行遍历，逐一完成对序列中每个元素的使用或者用于控制循环指定的次数。\n",
    "\n",
    "```\n",
    "for    接收遍历的变量   in    序列:\n",
    "    使用这个变量\n",
    "```"
   ]
  },
  {
   "cell_type": "code",
   "execution_count": null,
   "metadata": {},
   "outputs": [],
   "source": [
    "foods"
   ]
  },
  {
   "cell_type": "code",
   "execution_count": null,
   "metadata": {},
   "outputs": [],
   "source": [
    "for food in foods:\n",
    "    print(food)"
   ]
  },
  {
   "cell_type": "code",
   "execution_count": 8,
   "metadata": {},
   "outputs": [
    {
     "name": "stdout",
     "output_type": "stream",
     "text": [
      "5050\n"
     ]
    }
   ],
   "source": [
    "total=0\n",
    "for i in range(101):\n",
    "    total+=i\n",
    "print(total)"
   ]
  },
  {
   "cell_type": "code",
   "execution_count": 9,
   "metadata": {},
   "outputs": [
    {
     "data": {
      "text/plain": [
       "range(0, 10)"
      ]
     },
     "execution_count": 9,
     "metadata": {},
     "output_type": "execute_result"
    }
   ],
   "source": [
    "range(10)"
   ]
  },
  {
   "cell_type": "code",
   "execution_count": 10,
   "metadata": {},
   "outputs": [
    {
     "data": {
      "text/plain": [
       "[0, 1, 2, 3, 4, 5, 6, 7, 8, 9]"
      ]
     },
     "execution_count": 10,
     "metadata": {},
     "output_type": "execute_result"
    }
   ],
   "source": [
    "list(range(10))"
   ]
  },
  {
   "cell_type": "markdown",
   "metadata": {},
   "source": [
    "但是上面这种写法“太不Python”了，Python的写法是："
   ]
  },
  {
   "cell_type": "code",
   "execution_count": null,
   "metadata": {},
   "outputs": [],
   "source": [
    "sum([i for i in range(101)])"
   ]
  },
  {
   "cell_type": "code",
   "execution_count": null,
   "metadata": {
    "jupyter": {
     "outputs_hidden": true
    }
   },
   "outputs": [],
   "source": [
    "[i for i in range(101)]"
   ]
  },
  {
   "cell_type": "code",
   "execution_count": null,
   "metadata": {},
   "outputs": [],
   "source": [
    "sum([2**i for i in range(64)])"
   ]
  },
  {
   "cell_type": "code",
   "execution_count": null,
   "metadata": {
    "jupyter": {
     "outputs_hidden": true
    }
   },
   "outputs": [],
   "source": [
    "[2**i for i in range(64)]"
   ]
  },
  {
   "cell_type": "markdown",
   "metadata": {},
   "source": [
    "Python中可以直接作用于for循环的数据类型有以下几种：\n",
    "\n",
    "一类是集合数据类型，如：list、tuple、dict、set、str等；\n",
    "\n",
    "一类是generator，包括生成器和带yield的generator function。 (这个属于python高级技巧，以后再说，可以理解为用一个算法来不停的产生要遍历的值，而不是一堆预先保存在内存中的值的集合，又是用时间换空间的例子）\n",
    "\n",
    "这些可以直接作用于for循环的对象统称为可迭代对象：Iterable。\n",
    "凡是可作用于for循环的对象都是Iterable类型；\n",
    "\n",
    "那么字典如何用于for循环呢？举个栗子🌰"
   ]
  },
  {
   "cell_type": "code",
   "execution_count": null,
   "metadata": {},
   "outputs": [],
   "source": [
    "x={'a':1, 'b':2, 'c':3}\n",
    "for (k,v) in x.items():\n",
    "    print(k,\"=\",v)"
   ]
  },
  {
   "cell_type": "markdown",
   "metadata": {},
   "source": [
    "如果循环的时候我们不仅想得到可迭代对象（比如数组）中每个元素的值，还想知道这是第几个怎么办呢？使用enumerate。 这是一个会返回元组迭代器的内置函数，这些元组包含列表的索引和值。当你需要在循环中获取可迭代对象的每个元素及其索引时使用。"
   ]
  },
  {
   "cell_type": "code",
   "execution_count": null,
   "metadata": {},
   "outputs": [],
   "source": [
    "for i, ch in enumerate('Python'):\n",
    "    print('第',i,'个字符是：',ch)"
   ]
  },
  {
   "cell_type": "markdown",
   "metadata": {},
   "source": [
    "\n",
    "\n",
    "### while循环\n",
    "\n",
    "for 循环是一种“有限迭代”，意思就是循环主体将运行预定义的次数。\n",
    "\n",
    "这与“无限迭代”循环不同，无限迭代循环是指循环重复未知次数，并在满足某个条件时结束，while 循环正是这种情况。"
   ]
  },
  {
   "cell_type": "code",
   "execution_count": null,
   "metadata": {},
   "outputs": [],
   "source": [
    "students=[i+1690000 for i in range(1,43)]\n",
    "import random\n",
    "random.shuffle(students) \n",
    "total=len(students)\n",
    "while len(students)>total-3:\n",
    "    print('恭喜你中奖了：', students.pop())"
   ]
  },
  {
   "cell_type": "markdown",
   "metadata": {},
   "source": [
    "如果 while 循环的条件为 true，该循环的主体将被执行。每次运行循环主体时，条件将被重新评估。这个检查条件然后运行循环的流程将重复，直到该表达式变成 false。\n",
    "\n",
    "## break 和 continue\n",
    "\n",
    "有时候我们需要更精准地控制何时循环应该结束，或者跳过某个迭代。在这些情况下，我们使用关键字 break 和 continue，这两个关键字可以用于 for 和 while 循环。\n",
    "\n",
    "1. break 使循环终止\n",
    "\n",
    "2. continue 跳过本次的循环迭代\n",
    "\n",
    "Python还支持在循环语句使用else。else中的代码块会在循环正常结束的情况下执行。\n",
    "\n",
    "**被break打断循环时，不会执行else中的代码块**\n",
    "\n",
    "而使用continue时继续循环时，else中的代码块是可以正常执行的"
   ]
  },
  {
   "cell_type": "code",
   "execution_count": null,
   "metadata": {},
   "outputs": [],
   "source": [
    "#for-else\n",
    "for i in range(0,3):\n",
    "    print(i)\n",
    "else:\n",
    "    print(\"this is else statement\")"
   ]
  },
  {
   "cell_type": "code",
   "execution_count": null,
   "metadata": {},
   "outputs": [],
   "source": [
    "#while-else\n",
    "n = 0\n",
    "while n < 3:\n",
    "    print(n)\n",
    "    n = n + 1\n",
    "else:\n",
    "    print(\"this is else statement\")"
   ]
  },
  {
   "cell_type": "code",
   "execution_count": 11,
   "metadata": {},
   "outputs": [
    {
     "name": "stdout",
     "output_type": "stream",
     "text": [
      "0\n",
      "0\n"
     ]
    }
   ],
   "source": [
    "#for-else-break\n",
    "for i in range(0,3):\n",
    "    if i == 1:\n",
    "        break\n",
    "    print(i)\n",
    "else:\n",
    "    print(\"this is else statement\")\n",
    "    \n",
    "#while-else-break\n",
    "n = 0\n",
    "while n < 3:\n",
    "    if n == 1:\n",
    "        break\n",
    "    print(n)\n",
    "    n = n + 1\n",
    "else:\n",
    "    print(\"this is else statement\")"
   ]
  },
  {
   "cell_type": "code",
   "execution_count": 12,
   "metadata": {},
   "outputs": [
    {
     "name": "stdout",
     "output_type": "stream",
     "text": [
      "0\n",
      "2\n",
      "this is else statement\n",
      "0\n",
      "2\n",
      "this is else statement\n"
     ]
    }
   ],
   "source": [
    "#for-else-continue\n",
    "for i in range(0,3):\n",
    "    if i == 1:\n",
    "        continue\n",
    "    print(i)\n",
    "else:\n",
    "    print(\"this is else statement\")\n",
    "    \n",
    "#while-else-continue\n",
    "n = 0\n",
    "while n < 3:\n",
    "    if n == 1:\n",
    "        #如果不在此处让n加1，while循环将永远不会结束\n",
    "        n = n + 1\n",
    "        continue\n",
    "    print(n)\n",
    "    n = n + 1\n",
    "else:\n",
    "    print(\"this is else statement\")\n"
   ]
  },
  {
   "cell_type": "code",
   "execution_count": null,
   "metadata": {},
   "outputs": [],
   "source": []
  }
 ],
 "metadata": {
  "kernelspec": {
   "display_name": "Python 3",
   "language": "python",
   "name": "python3"
  },
  "language_info": {
   "codemirror_mode": {
    "name": "ipython",
    "version": 3
   },
   "file_extension": ".py",
   "mimetype": "text/x-python",
   "name": "python",
   "nbconvert_exporter": "python",
   "pygments_lexer": "ipython3",
   "version": "3.7.1"
  }
 },
 "nbformat": 4,
 "nbformat_minor": 4
}
