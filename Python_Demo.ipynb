{
 "cells": [
  {
   "cell_type": "code",
   "execution_count": 4,
   "metadata": {},
   "outputs": [
    {
     "name": "stdout",
     "output_type": "stream",
     "text": [
      "\"a\"\n"
     ]
    }
   ],
   "source": [
    "x='\"a\"'\n",
    "print (x)"
   ]
  },
  {
   "cell_type": "code",
   "execution_count": 5,
   "metadata": {},
   "outputs": [
    {
     "name": "stdout",
     "output_type": "stream",
     "text": [
      "a\n"
     ]
    }
   ],
   "source": [
    "x=\"a\"\n",
    "print(x)"
   ]
  },
  {
   "cell_type": "code",
   "execution_count": 6,
   "metadata": {},
   "outputs": [
    {
     "name": "stdout",
     "output_type": "stream",
     "text": [
      "a\"b\"\n"
     ]
    }
   ],
   "source": [
    "x='''a\"b\"'''\n",
    "print(x)"
   ]
  },
  {
   "cell_type": "code",
   "execution_count": 8,
   "metadata": {},
   "outputs": [
    {
     "data": {
      "text/plain": [
       "'123123adas'"
      ]
     },
     "execution_count": 8,
     "metadata": {},
     "output_type": "execute_result"
    }
   ],
   "source": [
    "a=\"123\"\n",
    "b=\"adas\"\n",
    "a*2+b"
   ]
  },
  {
   "cell_type": "code",
   "execution_count": 3,
   "metadata": {},
   "outputs": [
    {
     "name": "stdout",
     "output_type": "stream",
     "text": [
      "2500\n"
     ]
    }
   ],
   "source": [
    "add(1,100)"
   ]
  },
  {
   "cell_type": "code",
   "execution_count": 1,
   "metadata": {},
   "outputs": [
    {
     "data": {
      "text/plain": [
       "[0, -1, 2, -3, 4, -5, 6, -7, 8, -9]"
      ]
     },
     "execution_count": 1,
     "metadata": {},
     "output_type": "execute_result"
    }
   ],
   "source": [
    "[i if i%2==0 else -i for i in range(10)]"
   ]
  },
  {
   "cell_type": "code",
   "execution_count": null,
   "metadata": {},
   "outputs": [],
   "source": [
    "day = input(\"输入中文的周几:\")\n",
    "if(\"周日\" != day != \"周六\"):\n",
    "    print(\"工作日\")\n",
    "else:\n",
    "    print(\"周末\")"
   ]
  },
  {
   "cell_type": "code",
   "execution_count": 2,
   "metadata": {},
   "outputs": [],
   "source": [
    "#1到100奇数相加\n",
    "def add(start,end):\n",
    "    sum = 0\n",
    "    for i in range(start,end+1):\n",
    "        if(i%2 != 0):\n",
    "            sum+=i\n",
    "    print(sum)"
   ]
  },
  {
   "cell_type": "code",
   "execution_count": 4,
   "metadata": {},
   "outputs": [],
   "source": [
    "#1到100数相加\n",
    "def add(start,end):\n",
    "    sum = 0\n",
    "    for i in range(start,end+1):\n",
    "        sum+=i\n",
    "    print(sum)"
   ]
  },
  {
   "cell_type": "code",
   "execution_count": 3,
   "metadata": {},
   "outputs": [
    {
     "name": "stdout",
     "output_type": "stream",
     "text": [
      "[2, 3, 4, 5]\n"
     ]
    }
   ],
   "source": [
    "list = [1,2,3,4,5,6,7]\n",
    "print(list[1:5])"
   ]
  },
  {
   "cell_type": "code",
   "execution_count": 7,
   "metadata": {
    "scrolled": false
   },
   "outputs": [
    {
     "data": {
      "text/plain": [
       "(2, 3, 4, 5)"
      ]
     },
     "execution_count": 7,
     "metadata": {},
     "output_type": "execute_result"
    }
   ],
   "source": [
    "x = 1,2,3,4,5,6,7\n",
    "str[1:5]"
   ]
  },
  {
   "cell_type": "code",
   "execution_count": 2,
   "metadata": {},
   "outputs": [],
   "source": [
    "#字符串处理"
   ]
  },
  {
   "cell_type": "code",
   "execution_count": 4,
   "metadata": {},
   "outputs": [
    {
     "data": {
      "text/plain": [
       "-1"
      ]
     },
     "execution_count": 4,
     "metadata": {},
     "output_type": "execute_result"
    }
   ],
   "source": [
    "##查找\n",
    "s = 'abc'\n",
    "s.find('b')\n",
    "s.find('xx')"
   ]
  },
  {
   "cell_type": "code",
   "execution_count": 5,
   "metadata": {},
   "outputs": [
    {
     "data": {
      "text/plain": [
       "['aa', 'bb', 'cc']"
      ]
     },
     "execution_count": 5,
     "metadata": {},
     "output_type": "execute_result"
    }
   ],
   "source": [
    "#分割，返回list\n",
    "s = 'aa12bb12cc'\n",
    "s.split('12')"
   ]
  },
  {
   "cell_type": "code",
   "execution_count": 10,
   "metadata": {},
   "outputs": [
    {
     "name": "stdout",
     "output_type": "stream",
     "text": [
      "ABC\n"
     ]
    },
    {
     "data": {
      "text/plain": [
       "'abc'"
      ]
     },
     "execution_count": 10,
     "metadata": {},
     "output_type": "execute_result"
    }
   ],
   "source": [
    "#大小写转换\n",
    "s = 'abc'\n",
    "ss = s.upper()\n",
    "print(ss)\n",
    "a = 'ABC'\n",
    "a.lower()"
   ]
  },
  {
   "cell_type": "code",
   "execution_count": 14,
   "metadata": {},
   "outputs": [
    {
     "data": {
      "text/plain": [
       "'56'"
      ]
     },
     "execution_count": 14,
     "metadata": {},
     "output_type": "execute_result"
    }
   ],
   "source": [
    "#字符串截取\n",
    "s = '123456'\n",
    "s[2:5]\n",
    "s[4:]"
   ]
  },
  {
   "cell_type": "code",
   "execution_count": 17,
   "metadata": {},
   "outputs": [
    {
     "data": {
      "text/plain": [
       "'abc123'"
      ]
     },
     "execution_count": 17,
     "metadata": {},
     "output_type": "execute_result"
    }
   ],
   "source": [
    "#追加\n",
    "s = 'abc'\n",
    "a = '123'\n",
    "s + a"
   ]
  },
  {
   "cell_type": "code",
   "execution_count": 19,
   "metadata": {},
   "outputs": [
    {
     "data": {
      "text/plain": [
       "'a#b#c'"
      ]
     },
     "execution_count": 19,
     "metadata": {},
     "output_type": "execute_result"
    }
   ],
   "source": [
    "#替换\n",
    "s = \"a,b,c\"\n",
    "s.replace(\",\",\"#\")"
   ]
  },
  {
   "cell_type": "code",
   "execution_count": 20,
   "metadata": {},
   "outputs": [
    {
     "data": {
      "text/plain": [
       "'a#b#d'"
      ]
     },
     "execution_count": 20,
     "metadata": {},
     "output_type": "execute_result"
    }
   ],
   "source": [
    "#连接\n",
    "s = [\"a\",'b','d']\n",
    "'#'.join(s)"
   ]
  },
  {
   "cell_type": "code",
   "execution_count": 21,
   "metadata": {},
   "outputs": [
    {
     "data": {
      "text/plain": [
       "'87654321'"
      ]
     },
     "execution_count": 21,
     "metadata": {},
     "output_type": "execute_result"
    }
   ],
   "source": [
    "#反转\n",
    "s = '12345678'\n",
    "s[::-1]"
   ]
  },
  {
   "cell_type": "code",
   "execution_count": 16,
   "metadata": {},
   "outputs": [
    {
     "name": "stdout",
     "output_type": "stream",
     "text": [
      "18446744073709551615\n"
     ]
    }
   ],
   "source": [
    "#棋盘放米\n",
    "def add(start,end):\n",
    "    sum = 0\n",
    "    for i in range(start,end+1):\n",
    "        sum = sum + 2**(i-1)\n",
    "    print(sum)\n",
    "    \n",
    "add(1,64)"
   ]
  },
  {
   "cell_type": "code",
   "execution_count": 30,
   "metadata": {},
   "outputs": [
    {
     "data": {
      "text/plain": [
       "(0, 1, 2, 3, 4, 5, 6, 7, 8, 9)"
      ]
     },
     "execution_count": 30,
     "metadata": {},
     "output_type": "execute_result"
    }
   ],
   "source": [
    "a = (1,1,1,123,4,5,6,7)\n",
    "a[3]\n",
    "tuple(range(10))"
   ]
  },
  {
   "cell_type": "code",
   "execution_count": 39,
   "metadata": {},
   "outputs": [
    {
     "data": {
      "text/plain": [
       "[1,\n",
       " 2,\n",
       " 3,\n",
       " 4,\n",
       " 5,\n",
       " 6,\n",
       " 7,\n",
       " 8,\n",
       " 9,\n",
       " 10,\n",
       " 11,\n",
       " 12,\n",
       " 13,\n",
       " 14,\n",
       " 15,\n",
       " 16,\n",
       " 17,\n",
       " 18,\n",
       " 19,\n",
       " 20,\n",
       " 21,\n",
       " 22,\n",
       " 23,\n",
       " 24,\n",
       " 25,\n",
       " 26,\n",
       " 27,\n",
       " 28,\n",
       " 29,\n",
       " 30,\n",
       " 31,\n",
       " 32,\n",
       " 33,\n",
       " 34,\n",
       " 35,\n",
       " 36,\n",
       " 37,\n",
       " 38,\n",
       " 39,\n",
       " 40,\n",
       " 41,\n",
       " 42,\n",
       " 43,\n",
       " 44,\n",
       " 45,\n",
       " 46,\n",
       " 47,\n",
       " 48,\n",
       " 49,\n",
       " 50,\n",
       " 51,\n",
       " 52,\n",
       " 53,\n",
       " 54,\n",
       " 55,\n",
       " 56,\n",
       " 57,\n",
       " 58,\n",
       " 59,\n",
       " 60,\n",
       " 61,\n",
       " 62,\n",
       " 63,\n",
       " 64]"
      ]
     },
     "execution_count": 39,
     "metadata": {},
     "output_type": "execute_result"
    }
   ],
   "source": [
    "a = list(range(1,65))\n",
    "a"
   ]
  },
  {
   "cell_type": "code",
   "execution_count": 45,
   "metadata": {},
   "outputs": [
    {
     "name": "stdout",
     "output_type": "stream",
     "text": [
      "{'a': 1, 'b': 2, 'c': 3}\n"
     ]
    }
   ],
   "source": [
    "a = {'a':1,'b':2,'c':3}\n",
    "print(a)"
   ]
  },
  {
   "cell_type": "code",
   "execution_count": null,
   "metadata": {},
   "outputs": [],
   "source": [
    "course = [\"a\",\"b\",\"c\"]\n",
    "a = "
   ]
  },
  {
   "cell_type": "code",
   "execution_count": null,
   "metadata": {},
   "outputs": [],
   "source": [
    "#判断一个数个位与十位是否相等\n",
    "def test(a):\n",
    "    if not isinstance(a,int):\n",
    "        raise TypeError(\"bad operand type\")\n",
    "    else:    \n",
    "        return a//10%10 == a%10\n",
    "    \n",
    "test(3)"
   ]
  },
  {
   "cell_type": "code",
   "execution_count": 27,
   "metadata": {},
   "outputs": [
    {
     "data": {
      "text/plain": [
       "24"
      ]
     },
     "execution_count": 27,
     "metadata": {},
     "output_type": "execute_result"
    }
   ],
   "source": [
    "#输入三个数，计算体积\n",
    "def cal(l,w,h):\n",
    "    if not isinstance(l,(int,float)) or not isinstance(w,(int,float)) or not isinstance(h,(int,float)):\n",
    "        raise TypeError(\"bad operand type\")\n",
    "    else:   \n",
    "        return l*w*h\n",
    "\n",
    "cal(2,3,4)"
   ]
  },
  {
   "cell_type": "markdown",
   "metadata": {},
   "source": [
    "#判断100以内的质数"
   ]
  },
  {
   "cell_type": "code",
   "execution_count": 10,
   "metadata": {},
   "outputs": [
    {
     "name": "stdout",
     "output_type": "stream",
     "text": [
      "3\n",
      "5\n",
      "7\n",
      "9\n",
      "11\n",
      "13\n",
      "15\n",
      "17\n",
      "19\n",
      "21\n",
      "23\n",
      "25\n",
      "27\n",
      "29\n",
      "31\n",
      "33\n",
      "35\n",
      "37\n",
      "39\n",
      "41\n",
      "43\n",
      "45\n",
      "47\n",
      "49\n",
      "51\n",
      "53\n",
      "55\n",
      "57\n",
      "59\n",
      "61\n",
      "63\n",
      "65\n",
      "67\n",
      "69\n",
      "71\n",
      "73\n",
      "75\n",
      "77\n",
      "79\n",
      "81\n",
      "83\n",
      "85\n",
      "87\n",
      "89\n",
      "91\n",
      "93\n",
      "95\n",
      "97\n",
      "99\n"
     ]
    }
   ],
   "source": [
    "def output(x):\n",
    "    for i in range(2,x):\n",
    "        if x%i != 0:\n",
    "            return True\n",
    "        else:\n",
    "            return False\n",
    "for i in range(2,101):\n",
    "    if output(i):\n",
    "        print (i)"
   ]
  },
  {
   "cell_type": "code",
   "execution_count": 7,
   "metadata": {},
   "outputs": [
    {
     "data": {
      "text/plain": [
       "True"
      ]
     },
     "execution_count": 7,
     "metadata": {},
     "output_type": "execute_result"
    }
   ],
   "source": [
    "output(5)"
   ]
  },
  {
   "cell_type": "code",
   "execution_count": 15,
   "metadata": {},
   "outputs": [
    {
     "name": "stdout",
     "output_type": "stream",
     "text": [
      "ll 1\n",
      " 90\n",
      ":查找当前目录下资源； 1\n",
      "ls 2\n",
      "-lA\t 1\n",
      ":查找隐藏资源； 1\n",
      "-l|less:分屏查看； 1\n",
      "cd 1\n",
      "+文件名:进入改目录； 1\n",
      "mkdir 1\n",
      ":新建目录； 1\n",
      "git 29\n",
      "init 1\n",
      ":初始化本地仓库 1\n",
      "congif 1\n",
      "use.name 2\n",
      "用户名(仅在当前库有效) 1\n",
      "config 3\n",
      "user.email 2\n",
      "邮箱(仅在当前库有效) 1\n",
      "--global 2\n",
      "用户名(系统用户级) 1\n",
      "邮箱(系统用户级) 1\n",
      "status:查看本地仓情况 1\n",
      "add 4\n",
      "+文件 1\n",
      "\t 1\n",
      ":添加到暂存区 1\n",
      "-A. 1\n",
      "表示添加所有内容， 1\n",
      "add. 1\n",
      "表示添加新文件和编辑过的文件不包括删除的文件; 1\n",
      "-u. 1\n",
      "表示添加编辑或者删除的文件，不包括新添加的文件 1\n",
      "rm 1\n",
      "--cached 1\n",
      "文件:从暂存区移除 1\n",
      "commit 3\n",
      "文件 1\n",
      ":提交到本地库 1\n",
      "-m 2\n",
      "\"commit 2\n",
      "message\" 2\n",
      "不加文件名，提交全部 1\n",
      "文件名 1\n",
      "log 1\n",
      "--pretty=oneline 1\n",
      "显示提交日志 1\n",
      "reflog 1\n",
      "显示版本移动步数 1\n",
      "reset 2\n",
      "--hard 1\n",
      "+要回溯或者前进到版本的hash索引值 1\n",
      "（soft：仅在本地库移动head指针） 1\n",
      "（mix 1\n",
      "：在本地库移动head指针，重置暂存区） 1\n",
      "（hard：在本地库移动head指针，重置暂存区，重置工作区） 1\n",
      "删除文件找回： 1\n",
      "前提：删除前，文件存在时的状态提交到了本地库 1\n",
      "操作：git 1\n",
      "--hard+指针位置 1\n",
      "删除操作已经提交：指针位置指向历史记录 1\n",
      "删除操作尚未提交：指针位置使用head 1\n",
      "diff 3\n",
      "文件名:比较文件差异 1\n",
      "（将工作区文件与暂存区文件进行比较） 1\n",
      "本地库中的历史版本 1\n",
      "文件名（将工作区的文件和本地库的历史记录比较） 1\n",
      "不带文件名 1\n",
      "（比较多个文件） 1\n",
      "branch 1\n",
      "分支名 3\n",
      ":创建分支 1\n",
      "checkout 1\n",
      ":切换分支 1\n",
      "合并分支： 1\n",
      "第一步：切换到接受修改的分支（被合并，增加新内容）上 1\n",
      "第二步：执行merge 1\n",
      "merge 2\n",
      "（将有新内容的该分支调价到当前分支） 1\n",
      "remote 1\n",
      "本地别名 1\n",
      "远程仓库地址 1\n",
      "（在本地仓库创建远程仓库别名） 1\n",
      "push 1\n",
      "本地仓库别名 4\n",
      "要推送的分支名 1\n",
      "pull 1\n",
      "要抓取的分支名 3\n",
      "（pull=fetch+merge） 1\n",
      "fetch 1\n",
      "clone 1\n",
      "远程仓库下载地址（完整的把远程库下载到本地、创建远程地址别名、初始化本地库） 1\n",
      "vm编辑器:i进入编辑模式；esc 1\n",
      ":wq写入退出 1\n"
     ]
    }
   ],
   "source": [
    "f = open(\"C:/Users/Administrator/Desktop/git指令.txt\")\n",
    "lines = f.readlines()\n",
    "count = {}\n",
    "for line in lines:\n",
    "    tokens = line.strip().split(' ')\n",
    "    for token in tokens:\n",
    "        if token not in count:\n",
    "            count[token] = 0\n",
    "        count[token] +=1\n",
    "for word in count:\n",
    "    print (word,count[word])\n",
    "    "
   ]
  }
 ],
 "metadata": {
  "kernelspec": {
   "display_name": "Python 3",
   "language": "python",
   "name": "python3"
  },
  "language_info": {
   "codemirror_mode": {
    "name": "ipython",
    "version": 3
   },
   "file_extension": ".py",
   "mimetype": "text/x-python",
   "name": "python",
   "nbconvert_exporter": "python",
   "pygments_lexer": "ipython3",
   "version": "3.7.1"
  }
 },
 "nbformat": 4,
 "nbformat_minor": 2
}
