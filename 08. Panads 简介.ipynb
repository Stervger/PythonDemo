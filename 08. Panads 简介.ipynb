{
 "cells": [
  {
   "cell_type": "markdown",
   "metadata": {
    "toc": true
   },
   "source": [
    "<h1>目录<span class=\"tocSkip\"></span></h1>\n",
    "<div class=\"toc\"><ul class=\"toc-item\"><li><span><a href=\"#Pandas简介\" data-toc-modified-id=\"Pandas简介-8\"><span class=\"toc-item-num\">8&nbsp;&nbsp;</span>Pandas简介</a></span><ul class=\"toc-item\"><li><span><a href=\"#什么是Pandas\" data-toc-modified-id=\"什么是Pandas-8.1\"><span class=\"toc-item-num\">8.1&nbsp;&nbsp;</span>什么是Pandas</a></span></li><li><span><a href=\"#为何要使用-Pandas？\" data-toc-modified-id=\"为何要使用-Pandas？-8.2\"><span class=\"toc-item-num\">8.2&nbsp;&nbsp;</span>为何要使用 Pandas？</a></span></li><li><span><a href=\"#Series\" data-toc-modified-id=\"Series-8.3\"><span class=\"toc-item-num\">8.3&nbsp;&nbsp;</span>Series</a></span><ul class=\"toc-item\"><li><span><a href=\"#自定义标签\" data-toc-modified-id=\"自定义标签-8.3.1\"><span class=\"toc-item-num\">8.3.1&nbsp;&nbsp;</span>自定义标签</a></span></li><li><span><a href=\"#访问Series的元素\" data-toc-modified-id=\"访问Series的元素-8.3.2\"><span class=\"toc-item-num\">8.3.2&nbsp;&nbsp;</span>访问Series的元素</a></span></li><li><span><a href=\"#案例1\" data-toc-modified-id=\"案例1-8.3.3\"><span class=\"toc-item-num\">8.3.3&nbsp;&nbsp;</span>案例1</a></span><ul class=\"toc-item\"><li><span><a href=\"#我们再来回顾一下以前讲过的发红包的例子：\" data-toc-modified-id=\"我们再来回顾一下以前讲过的发红包的例子：-8.3.3.1\"><span class=\"toc-item-num\">8.3.3.1&nbsp;&nbsp;</span>我们再来回顾一下以前讲过的发红包的例子：</a></span></li></ul></li><li><span><a href=\"#推荐使用字符串为标签\" data-toc-modified-id=\"推荐使用字符串为标签-8.3.4\"><span class=\"toc-item-num\">8.3.4&nbsp;&nbsp;</span>推荐使用字符串为标签</a></span></li><li><span><a href=\"#使用图表查看Series中的数据\" data-toc-modified-id=\"使用图表查看Series中的数据-8.3.5\"><span class=\"toc-item-num\">8.3.5&nbsp;&nbsp;</span>使用图表查看Series中的数据</a></span></li></ul></li><li><span><a href=\"#DataFrame\" data-toc-modified-id=\"DataFrame-8.4\"><span class=\"toc-item-num\">8.4&nbsp;&nbsp;</span>DataFrame</a></span><ul class=\"toc-item\"><li><span><a href=\"#访问\" data-toc-modified-id=\"访问-8.4.1\"><span class=\"toc-item-num\">8.4.1&nbsp;&nbsp;</span>访问</a></span></li><li><span><a href=\"#增加数据\" data-toc-modified-id=\"增加数据-8.4.2\"><span class=\"toc-item-num\">8.4.2&nbsp;&nbsp;</span>增加数据</a></span></li><li><span><a href=\"#删除数据\" data-toc-modified-id=\"删除数据-8.4.3\"><span class=\"toc-item-num\">8.4.3&nbsp;&nbsp;</span>删除数据</a></span></li><li><span><a href=\"#修改标签-（修改数据按照访问数据的方式即可）\" data-toc-modified-id=\"修改标签-（修改数据按照访问数据的方式即可）-8.4.4\"><span class=\"toc-item-num\">8.4.4&nbsp;&nbsp;</span>修改标签 （修改数据按照访问数据的方式即可）</a></span></li><li><span><a href=\"#排序\" data-toc-modified-id=\"排序-8.4.5\"><span class=\"toc-item-num\">8.4.5&nbsp;&nbsp;</span>排序</a></span></li><li><span><a href=\"#强大的groupby\" data-toc-modified-id=\"强大的groupby-8.4.6\"><span class=\"toc-item-num\">8.4.6&nbsp;&nbsp;</span>强大的groupby</a></span></li><li><span><a href=\"#案例2-真实数据算红包\" data-toc-modified-id=\"案例2-真实数据算红包-8.4.7\"><span class=\"toc-item-num\">8.4.7&nbsp;&nbsp;</span>案例2 真实数据算红包</a></span></li><li><span><a href=\"#案例3-世界杯\" data-toc-modified-id=\"案例3-世界杯-8.4.8\"><span class=\"toc-item-num\">8.4.8&nbsp;&nbsp;</span>案例3 世界杯</a></span></li></ul></li></ul></li></ul></div>"
   ]
  },
  {
   "cell_type": "markdown",
   "metadata": {},
   "source": [
    "# Pandas简介\n",
    "\n",
    "## 什么是Pandas\n",
    "\n",
    "Python Data Analysis Library 或 pandas 是基于NumPy 的一种工具，该工具是为了解决数据分析任务而创建的。Pandas 纳入了大量库和一些标准的数据模型，提供了高效地操作大型数据集所需的工具。pandas提供了大量能使我们快速便捷地处理数据的函数和方法。你很快就会发现，它是使Python成为强大而高效的数据分析环境的重要因素之一。\n",
    "\n",
    "Pandas这个名字的来源有很多种说法，我比较认同的一种解释是，这个名字来源于pandas库中的三种主要数据结构： **Pan**el， **Da**taframe, **S**eries。\n",
    "\n",
    "series定义了一维的数据，dataframe定义了二维的数据，panel定义了三维的数据，但是现在panel用的并不太多了，我们也主要讲解series和dataframe两种。\n"
   ]
  },
  {
   "cell_type": "markdown",
   "metadata": {},
   "source": [
    "## 为何要使用 Pandas？\n",
    "\n",
    "机器学习算法能取得最近的飞速发展，部分原因就是我们可以用大量数据训练算法。但是，对于数据来说，数量并不是唯一重要的方面，数据质量也同等重要。经常大型数据库并不能直接馈送到学习算法中。很多时候，大型数据集缺失值、存在离群值、不正确的值，等等…例如，如果数据存在大量丢失值或糟糕值，机器学习算法将无法达到很好的性能。因此，机器学习的重要一步是首先检查数据，通过进行一些基本的数据分析，确保数据很适合你的训练算法。这时候，Pandas 就派上用场了。Pandas Series 和 DataFrame 专门用于快速进行数据分析和操纵，并且使用起来灵活简单。以下是使 Pandas 成为出色的数据分析软件包的几个功能：\n",
    "\n",
    "* 允许为行和列设定标签\n",
    "* 可以针对时间序列数据计算滚动统计学指标\n",
    "* 轻松地处理 NaN 值\n",
    "* 能够将不同格式的数据加载到 DataFrame 中\n",
    "* 可以将不同的数据集合并到一起\n",
    "* 与 NumPy 和 Matplotlib 集成\n",
    "\n",
    "因为这些原因以及其他原因，Pandas DataFrame 已经成为 Python 中最常用的数据分析 Pandas 对象之一。\n"
   ]
  },
  {
   "cell_type": "markdown",
   "metadata": {},
   "source": [
    "## Series\n",
    "\n",
    "Pandas Series 是一个像数组一样的一维对象，可以存储很多类型的数据，例如数字或字符串。Pandas Series 和 NumPy ndarray 之间的主要区别之一是你可以为 Pandas Series 中的每个元素分配索引标签。换句话说，你可以为 Pandas Series 索引指定任何名称。Pandas Series 和 NumPy ndarrays 之间的另一个明显区别是 Pandas Series 可以存储不同类型的数据。\n"
   ]
  },
  {
   "cell_type": "code",
   "execution_count": 1,
   "metadata": {},
   "outputs": [
    {
     "data": {
      "text/plain": [
       "['h', 'e', 'l', 'l', 'o', ' ', 'p', 'y', 't', 'h', 'o', 'n']"
      ]
     },
     "execution_count": 1,
     "metadata": {},
     "output_type": "execute_result"
    }
   ],
   "source": [
    "list('hello python')"
   ]
  },
  {
   "cell_type": "code",
   "execution_count": 2,
   "metadata": {},
   "outputs": [
    {
     "name": "stdout",
     "output_type": "stream",
     "text": [
      "<class 'pandas.core.series.Series'>\n"
     ]
    },
    {
     "data": {
      "text/plain": [
       "0    65\n",
       "1    77\n",
       "2    82\n",
       "3    48\n",
       "4    90\n",
       "dtype: int64"
      ]
     },
     "execution_count": 2,
     "metadata": {},
     "output_type": "execute_result"
    }
   ],
   "source": [
    "import pandas as pd\n",
    "\n",
    "score=pd.Series([65,77,82,48,90])\n",
    "\n",
    "print(type(score))\n",
    "\n",
    "score"
   ]
  },
  {
   "cell_type": "code",
   "execution_count": 3,
   "metadata": {},
   "outputs": [
    {
     "data": {
      "text/plain": [
       "77"
      ]
     },
     "execution_count": 3,
     "metadata": {},
     "output_type": "execute_result"
    }
   ],
   "source": [
    "a=[65,77,82,48,90]\n",
    "a[1]"
   ]
  },
  {
   "cell_type": "code",
   "execution_count": 4,
   "metadata": {},
   "outputs": [
    {
     "data": {
      "text/plain": [
       "77"
      ]
     },
     "execution_count": 4,
     "metadata": {},
     "output_type": "execute_result"
    }
   ],
   "source": [
    "score[1]"
   ]
  },
  {
   "cell_type": "code",
   "execution_count": 5,
   "metadata": {},
   "outputs": [
    {
     "data": {
      "text/plain": [
       "77"
      ]
     },
     "execution_count": 5,
     "metadata": {},
     "output_type": "execute_result"
    }
   ],
   "source": [
    "import numpy as np\n",
    "b=np.array(a)\n",
    "b[1]"
   ]
  },
  {
   "cell_type": "markdown",
   "metadata": {},
   "source": [
    "上面左边那一列从0开始的就是标签，默认就是从0开始的数，似乎跟numpy的ndarray的下标也没有什么不同，直到我们可以**自定义标签**\n",
    "\n",
    "### 自定义标签"
   ]
  },
  {
   "cell_type": "code",
   "execution_count": 6,
   "metadata": {},
   "outputs": [
    {
     "name": "stdout",
     "output_type": "stream",
     "text": [
      "张三    65\n",
      "李四    77\n",
      "王五    82\n",
      "赵六    48\n",
      "孙七    90\n",
      "dtype: int64\n"
     ]
    }
   ],
   "source": [
    "score=pd.Series([65,77,82,48,90], index=['张三','李四','王五','赵六','孙七'])\n",
    "print(score)"
   ]
  },
  {
   "cell_type": "code",
   "execution_count": 7,
   "metadata": {},
   "outputs": [
    {
     "data": {
      "text/plain": [
       "77"
      ]
     },
     "execution_count": 7,
     "metadata": {},
     "output_type": "execute_result"
    }
   ],
   "source": [
    "score['李四']"
   ]
  },
  {
   "cell_type": "code",
   "execution_count": 8,
   "metadata": {},
   "outputs": [
    {
     "data": {
      "text/plain": [
       "77"
      ]
     },
     "execution_count": 8,
     "metadata": {},
     "output_type": "execute_result"
    }
   ],
   "source": [
    "score[1]"
   ]
  },
  {
   "cell_type": "markdown",
   "metadata": {},
   "source": [
    "这个时候，Series就像一个**有序字典**了。其实本来就可以用字典来初始化一个Series：\n",
    "```python\n",
    "sdata={'ohio':3500, 'Texas':7100, 'oregon':1600, 'utah':500}\n",
    "pd.Series(sdata)\n",
    "```"
   ]
  },
  {
   "cell_type": "code",
   "execution_count": 9,
   "metadata": {},
   "outputs": [
    {
     "data": {
      "text/plain": [
       "ohio      3500\n",
       "Texas     7100\n",
       "oregon    1600\n",
       "utah       500\n",
       "dtype: int64"
      ]
     },
     "execution_count": 9,
     "metadata": {},
     "output_type": "execute_result"
    }
   ],
   "source": [
    "sdata={'ohio':3500, 'Texas':7100, 'oregon':1600, 'utah':500}\n",
    "pd.Series(sdata)"
   ]
  },
  {
   "cell_type": "code",
   "execution_count": 10,
   "metadata": {},
   "outputs": [
    {
     "data": {
      "text/plain": [
       "array([65, 77, 82, 48, 90], dtype=int64)"
      ]
     },
     "execution_count": 10,
     "metadata": {},
     "output_type": "execute_result"
    }
   ],
   "source": [
    "score.values           #Series的值是一个numpy的一维数组"
   ]
  },
  {
   "cell_type": "code",
   "execution_count": 11,
   "metadata": {},
   "outputs": [
    {
     "data": {
      "text/plain": [
       "[65, 77, 82, 48, 90]"
      ]
     },
     "execution_count": 11,
     "metadata": {},
     "output_type": "execute_result"
    }
   ],
   "source": [
    "list(score.values)"
   ]
  },
  {
   "cell_type": "code",
   "execution_count": 12,
   "metadata": {},
   "outputs": [
    {
     "data": {
      "text/plain": [
       "numpy.ndarray"
      ]
     },
     "execution_count": 12,
     "metadata": {},
     "output_type": "execute_result"
    }
   ],
   "source": [
    "type(score.values)"
   ]
  },
  {
   "cell_type": "code",
   "execution_count": 13,
   "metadata": {},
   "outputs": [
    {
     "data": {
      "text/plain": [
       "Index(['张三', '李四', '王五', '赵六', '孙七'], dtype='object')"
      ]
     },
     "execution_count": 13,
     "metadata": {},
     "output_type": "execute_result"
    }
   ],
   "source": [
    "score.index          #Series的标签是一个Index对象，但是可以很容易的转化为list，或者numpy的ndarray"
   ]
  },
  {
   "cell_type": "code",
   "execution_count": 14,
   "metadata": {},
   "outputs": [
    {
     "data": {
      "text/plain": [
       "['张三', '李四', '王五', '赵六', '孙七']"
      ]
     },
     "execution_count": 14,
     "metadata": {},
     "output_type": "execute_result"
    }
   ],
   "source": [
    "list(score.index)"
   ]
  },
  {
   "cell_type": "markdown",
   "metadata": {},
   "source": [
    "### 访问Series的元素\n",
    "\n",
    "Series可以**同时使用下标和标签**进行访问"
   ]
  },
  {
   "cell_type": "code",
   "execution_count": 15,
   "metadata": {},
   "outputs": [
    {
     "name": "stdout",
     "output_type": "stream",
     "text": [
      "65\n",
      "77\n",
      "82\n",
      "48\n",
      "90\n"
     ]
    }
   ],
   "source": [
    "for a in score:   #与字典不同，遍历的还是一维数组的值，这个时候标签仿佛不存在\n",
    "    print(a)"
   ]
  },
  {
   "cell_type": "code",
   "execution_count": 16,
   "metadata": {},
   "outputs": [
    {
     "data": {
      "text/plain": [
       "362"
      ]
     },
     "execution_count": 16,
     "metadata": {},
     "output_type": "execute_result"
    }
   ],
   "source": [
    "sum(score)"
   ]
  },
  {
   "cell_type": "code",
   "execution_count": 17,
   "metadata": {},
   "outputs": [
    {
     "data": {
      "text/plain": [
       "77"
      ]
     },
     "execution_count": 17,
     "metadata": {},
     "output_type": "execute_result"
    }
   ],
   "source": [
    "score[1]       #而且仍然可以用下标访问和切片"
   ]
  },
  {
   "cell_type": "code",
   "execution_count": 18,
   "metadata": {},
   "outputs": [
    {
     "data": {
      "text/plain": [
       "77"
      ]
     },
     "execution_count": 18,
     "metadata": {},
     "output_type": "execute_result"
    }
   ],
   "source": [
    "score['李四']"
   ]
  },
  {
   "cell_type": "code",
   "execution_count": 24,
   "metadata": {},
   "outputs": [
    {
     "data": {
      "text/plain": [
       "张三    65\n",
       "李四    77\n",
       "王五    82\n",
       "赵六    48\n",
       "孙七    90\n",
       "dtype: int64"
      ]
     },
     "execution_count": 24,
     "metadata": {},
     "output_type": "execute_result"
    }
   ],
   "source": [
    "score"
   ]
  },
  {
   "cell_type": "code",
   "execution_count": 19,
   "metadata": {},
   "outputs": [
    {
     "data": {
      "text/plain": [
       "李四    77\n",
       "赵六    48\n",
       "dtype: int64"
      ]
     },
     "execution_count": 19,
     "metadata": {},
     "output_type": "execute_result"
    }
   ],
   "source": [
    "score[1::2]    #切片也是一样的"
   ]
  },
  {
   "cell_type": "code",
   "execution_count": 20,
   "metadata": {},
   "outputs": [
    {
     "data": {
      "text/plain": [
       "李四    77\n",
       "王五    82\n",
       "赵六    48\n",
       "dtype: int64"
      ]
     },
     "execution_count": 20,
     "metadata": {},
     "output_type": "execute_result"
    }
   ],
   "source": [
    "score['李四':'赵六']"
   ]
  },
  {
   "cell_type": "code",
   "execution_count": 21,
   "metadata": {},
   "outputs": [
    {
     "ename": "TypeError",
     "evalue": "list indices must be integers or slices, not list",
     "output_type": "error",
     "traceback": [
      "\u001b[1;31m---------------------------------------------------------------------------\u001b[0m",
      "\u001b[1;31mTypeError\u001b[0m                                 Traceback (most recent call last)",
      "\u001b[1;32m<ipython-input-21-411b3c47b9c5>\u001b[0m in \u001b[0;36m<module>\u001b[1;34m\u001b[0m\n\u001b[1;32m----> 1\u001b[1;33m \u001b[0mlist\u001b[0m\u001b[1;33m(\u001b[0m\u001b[1;34m'hello python'\u001b[0m\u001b[1;33m)\u001b[0m\u001b[1;33m[\u001b[0m\u001b[1;33m[\u001b[0m\u001b[1;36m1\u001b[0m\u001b[1;33m,\u001b[0m\u001b[1;36m3\u001b[0m\u001b[1;33m]\u001b[0m\u001b[1;33m]\u001b[0m\u001b[1;33m\u001b[0m\u001b[1;33m\u001b[0m\u001b[0m\n\u001b[0m",
      "\u001b[1;31mTypeError\u001b[0m: list indices must be integers or slices, not list"
     ]
    }
   ],
   "source": [
    "list('hello python')[[1,3]]"
   ]
  },
  {
   "cell_type": "code",
   "execution_count": 25,
   "metadata": {},
   "outputs": [
    {
     "data": {
      "text/plain": [
       "张三    65\n",
       "李四    77\n",
       "王五    82\n",
       "赵六    48\n",
       "孙七    90\n",
       "dtype: int64"
      ]
     },
     "execution_count": 25,
     "metadata": {},
     "output_type": "execute_result"
    }
   ],
   "source": [
    "score"
   ]
  },
  {
   "cell_type": "code",
   "execution_count": 22,
   "metadata": {},
   "outputs": [
    {
     "data": {
      "text/plain": [
       "李四    77\n",
       "赵六    48\n",
       "dtype: int64"
      ]
     },
     "execution_count": 22,
     "metadata": {},
     "output_type": "execute_result"
    }
   ],
   "source": [
    "score[[1,3]]  #可以采用下标数组筛选需要的数据"
   ]
  },
  {
   "cell_type": "code",
   "execution_count": 23,
   "metadata": {},
   "outputs": [
    {
     "data": {
      "text/plain": [
       "张三    65\n",
       "赵六    48\n",
       "dtype: int64"
      ]
     },
     "execution_count": 23,
     "metadata": {},
     "output_type": "execute_result"
    }
   ],
   "source": [
    "score[['张三','赵六']]   #也可以采用标签数组筛选需要的数据"
   ]
  },
  {
   "cell_type": "markdown",
   "metadata": {},
   "source": [
    "其实numpy的ndarray也支持使用这种下标数组进行筛选："
   ]
  },
  {
   "cell_type": "code",
   "execution_count": 26,
   "metadata": {},
   "outputs": [
    {
     "data": {
      "text/plain": [
       "array([ 1,  3,  5,  7,  9, 11])"
      ]
     },
     "execution_count": 26,
     "metadata": {},
     "output_type": "execute_result"
    }
   ],
   "source": [
    "import numpy as np\n",
    "a=np.arange(1,12,2)\n",
    "a"
   ]
  },
  {
   "cell_type": "code",
   "execution_count": 27,
   "metadata": {},
   "outputs": [
    {
     "data": {
      "text/plain": [
       "array([ 3,  7, 11])"
      ]
     },
     "execution_count": 27,
     "metadata": {},
     "output_type": "execute_result"
    }
   ],
   "source": [
    "a[[1,3,5]]"
   ]
  },
  {
   "cell_type": "markdown",
   "metadata": {},
   "source": [
    "### 案例1\n",
    "\n",
    "#### 我们再来回顾一下以前讲过的发红包的例子："
   ]
  },
  {
   "cell_type": "code",
   "execution_count": 28,
   "metadata": {},
   "outputs": [
    {
     "data": {
      "text/plain": [
       "100.0"
      ]
     },
     "execution_count": 28,
     "metadata": {},
     "output_type": "execute_result"
    }
   ],
   "source": [
    "a=np.random.rand(50)\n",
    "a\n",
    "sum(a)\n",
    "redPocket=np.round(a*( 100/sum(a)), 2)\n",
    "redPocket[-1]=100-sum(redPocket[:-1])\n",
    "sum(redPocket)\n",
    "\n"
   ]
  },
  {
   "cell_type": "code",
   "execution_count": 29,
   "metadata": {},
   "outputs": [
    {
     "data": {
      "text/plain": [
       "array([2.9 , 1.79, 1.47, 0.42, 0.04, 2.89, 3.41, 2.93, 3.19, 3.19, 1.6 ,\n",
       "       1.66, 1.84, 3.05, 2.63, 0.72, 0.74, 1.51, 1.64, 2.73, 2.  , 0.97,\n",
       "       3.04, 3.41, 0.92, 2.85, 1.89, 1.36, 1.44, 2.56, 3.44, 0.08, 2.31,\n",
       "       1.62, 0.9 , 3.15, 3.35, 1.53, 2.87, 0.57, 2.48, 1.97, 0.96, 1.68,\n",
       "       3.5 , 1.74, 3.04, 1.46, 1.07, 1.49])"
      ]
     },
     "execution_count": 29,
     "metadata": {},
     "output_type": "execute_result"
    }
   ],
   "source": [
    "redPocket"
   ]
  },
  {
   "cell_type": "code",
   "execution_count": 34,
   "metadata": {},
   "outputs": [
    {
     "data": {
      "text/plain": [
       "array([False, False, False, False, False, False, False, False, False,\n",
       "       False, False, False, False, False, False, False, False, False,\n",
       "       False, False, False, False, False, False, False, False, False,\n",
       "       False, False, False, False, False, False, False, False, False,\n",
       "        True, False, False, False, False, False, False, False, False,\n",
       "       False, False, False, False, False])"
      ]
     },
     "execution_count": 34,
     "metadata": {},
     "output_type": "execute_result"
    }
   ],
   "source": [
    "IDs==169001137"
   ]
  },
  {
   "cell_type": "code",
   "execution_count": 33,
   "metadata": {},
   "outputs": [
    {
     "data": {
      "text/plain": [
       "array([3.35])"
      ]
     },
     "execution_count": 33,
     "metadata": {},
     "output_type": "execute_result"
    }
   ],
   "source": [
    "redPocket[IDs==169001137]"
   ]
  },
  {
   "cell_type": "code",
   "execution_count": 32,
   "metadata": {},
   "outputs": [
    {
     "data": {
      "text/plain": [
       "array([169001101, 169001102, 169001103, 169001104, 169001105, 169001106,\n",
       "       169001107, 169001108, 169001109, 169001110, 169001111, 169001112,\n",
       "       169001113, 169001114, 169001115, 169001116, 169001117, 169001118,\n",
       "       169001119, 169001120, 169001121, 169001122, 169001123, 169001124,\n",
       "       169001125, 169001126, 169001127, 169001128, 169001129, 169001130,\n",
       "       169001131, 169001132, 169001133, 169001134, 169001135, 169001136,\n",
       "       169001137, 169001138, 169001139, 169001140, 169001141, 169001142,\n",
       "       169001143, 169001144, 169001145, 169001146, 169001147, 169001148,\n",
       "       169001149, 169001150])"
      ]
     },
     "execution_count": 32,
     "metadata": {},
     "output_type": "execute_result"
    }
   ],
   "source": [
    "IDs=np.arange(1,51)+169001100\n",
    "IDs"
   ]
  },
  {
   "cell_type": "code",
   "execution_count": 35,
   "metadata": {},
   "outputs": [
    {
     "name": "stdout",
     "output_type": "stream",
     "text": [
      "[4.62 1.61 0.06 2.93 2.15 3.13 0.59 0.06 4.04 0.09 5.14 4.14 4.93 0.01\n",
      " 0.64 4.17 2.34 3.35 1.7  2.52 1.13 0.99 1.64 5.33 5.07 4.62 1.05 1.98\n",
      " 5.19 3.96 0.77 0.87 5.22 1.36 4.34 2.79 5.47]\n",
      "总数：100.00\n"
     ]
    },
    {
     "data": {
      "text/plain": [
       "array([5.47])"
      ]
     },
     "execution_count": 35,
     "metadata": {},
     "output_type": "execute_result"
    }
   ],
   "source": [
    "import numpy as np\n",
    "\n",
    "#生成37个随机数\n",
    "a=np.random.rand(37)\n",
    "\n",
    "#计算每个数在100块钱红包中的比例，精确到小数点后2位\n",
    "redPocket=np.round(a/sum(a) * 100, 2)\n",
    "\n",
    "#修正最后一个人的份额，使总额正好100\n",
    "redPocket[-1]=100-sum(redPocket[:-1])\n",
    "\n",
    "#查看红包的分配，以及红包的总数是否为100\n",
    "print(redPocket)\n",
    "print(\"总数：{:.2f}\".format(redPocket.sum()))\n",
    "\n",
    "#生成学号数组\n",
    "IDs=np.arange(1,38)+169001100\n",
    "\n",
    "#使用花式切片，获取学号为某个值的同学分得的红包金额\n",
    "redPocket[IDs==169001137]"
   ]
  },
  {
   "cell_type": "markdown",
   "metadata": {},
   "source": [
    "原来的这个例子中，为了实现花式切片，我们需要引入一个与原来的红包数组完全不相干的IDs数组，还要保证这个数组的长度和红包数组一致，否则容易出错。\n",
    "\n",
    "思考🤔：现在我们有Pandas的Series了，我们可以如何解决这个问题呢？\n",
    "\n",
    " |\n",
    "\n",
    ".\n",
    "\n",
    " |\n",
    "\n",
    ".\n",
    "\n",
    " |\n",
    "\n",
    ".\n",
    "\n",
    "V"
   ]
  },
  {
   "cell_type": "code",
   "execution_count": 36,
   "metadata": {},
   "outputs": [
    {
     "name": "stdout",
     "output_type": "stream",
     "text": [
      "总数：99.98\n",
      "修正后的总数：100.00\n",
      "169001101    0.09\n",
      "169001102    0.32\n",
      "169001103    0.07\n",
      "169001104    0.15\n",
      "169001105    4.56\n",
      "169001106    4.14\n",
      "169001107    3.33\n",
      "169001108    4.30\n",
      "169001109    1.91\n",
      "169001110    3.81\n",
      "169001111    4.61\n",
      "169001112    2.71\n",
      "169001113    2.77\n",
      "169001114    1.46\n",
      "169001115    5.30\n",
      "169001116    1.60\n",
      "169001117    0.35\n",
      "169001118    1.58\n",
      "169001119    4.72\n",
      "169001120    0.42\n",
      "169001121    4.44\n",
      "169001122    4.05\n",
      "169001123    5.24\n",
      "169001124    2.16\n",
      "169001125    2.78\n",
      "169001126    1.65\n",
      "169001127    3.62\n",
      "169001128    3.61\n",
      "169001129    2.86\n",
      "169001130    1.11\n",
      "169001131    3.10\n",
      "169001132    4.54\n",
      "169001133    4.36\n",
      "169001134    0.85\n",
      "169001135    0.88\n",
      "169001136    1.95\n",
      "169001137    4.60\n",
      "dtype: float64\n",
      "169001137的红包是：4.60\n"
     ]
    }
   ],
   "source": [
    "a=np.random.rand(37)\n",
    "redPocket=pd.Series(np.round(a/sum(a) * 100, 2),index=np.arange(169001101,169001138))\n",
    "print(\"总数：{:.2f}\".format(redPocket.sum()))\n",
    "redPocket[-1:]=100-sum(redPocket[:-1])\n",
    "print(\"修正后的总数：{:.2f}\".format(redPocket.sum()))\n",
    "print(redPocket)\n",
    "print(\"169001137的红包是：{:.2f}\".format(redPocket[169001137]))"
   ]
  },
  {
   "cell_type": "markdown",
   "metadata": {},
   "source": [
    "注意有一句切片语句的不同：\n",
    "```python\n",
    "#ndarray版本：\n",
    "redPocket[-1]=100-sum(redPocket[:-1])\n",
    "\n",
    "#Series版本：\n",
    "redPocket[-1:]=100-sum(redPocket[:-1])\n",
    "```\n",
    "这是因为我们使用了整数作为Series的索引，而-1也是一个整数，如果使用redPocket\\[-1\\]会表示-1为索引，而不是切片，你可以在下面尝试一下，看看数组会变成什么样？"
   ]
  },
  {
   "cell_type": "code",
   "execution_count": 37,
   "metadata": {},
   "outputs": [
    {
     "data": {
      "text/plain": [
       " 169001101    0.09\n",
       " 169001102    0.32\n",
       " 169001103    0.07\n",
       " 169001104    0.15\n",
       " 169001105    4.56\n",
       " 169001106    4.14\n",
       " 169001107    3.33\n",
       " 169001108    4.30\n",
       " 169001109    1.91\n",
       " 169001110    3.81\n",
       " 169001111    4.61\n",
       " 169001112    2.71\n",
       " 169001113    2.77\n",
       " 169001114    1.46\n",
       " 169001115    5.30\n",
       " 169001116    1.60\n",
       " 169001117    0.35\n",
       " 169001118    1.58\n",
       " 169001119    4.72\n",
       " 169001120    0.42\n",
       " 169001121    4.44\n",
       " 169001122    4.05\n",
       " 169001123    5.24\n",
       " 169001124    2.16\n",
       " 169001125    2.78\n",
       " 169001126    1.65\n",
       " 169001127    3.62\n",
       " 169001128    3.61\n",
       " 169001129    2.86\n",
       " 169001130    1.11\n",
       " 169001131    3.10\n",
       " 169001132    4.54\n",
       " 169001133    4.36\n",
       " 169001134    0.85\n",
       " 169001135    0.88\n",
       " 169001136    1.95\n",
       " 169001137    4.60\n",
       "-1            4.60\n",
       "dtype: float64"
      ]
     },
     "execution_count": 37,
     "metadata": {},
     "output_type": "execute_result"
    }
   ],
   "source": [
    "redPocket[-1]=100-sum(redPocket[:-1])\n",
    "redPocket"
   ]
  },
  {
   "cell_type": "code",
   "execution_count": 38,
   "metadata": {},
   "outputs": [
    {
     "data": {
      "text/plain": [
       "169001101    0.09\n",
       "169001102    0.32\n",
       "169001103    0.07\n",
       "169001104    0.15\n",
       "169001105    4.56\n",
       "169001106    4.14\n",
       "169001107    3.33\n",
       "169001108    4.30\n",
       "169001109    1.91\n",
       "169001110    3.81\n",
       "169001111    4.61\n",
       "169001112    2.71\n",
       "169001113    2.77\n",
       "169001114    1.46\n",
       "169001115    5.30\n",
       "169001116    1.60\n",
       "169001117    0.35\n",
       "169001118    1.58\n",
       "169001119    4.72\n",
       "169001120    0.42\n",
       "169001121    4.44\n",
       "169001122    4.05\n",
       "169001123    5.24\n",
       "169001124    2.16\n",
       "169001125    2.78\n",
       "169001126    1.65\n",
       "169001127    3.62\n",
       "169001128    3.61\n",
       "169001129    2.86\n",
       "169001130    1.11\n",
       "169001131    3.10\n",
       "169001132    4.54\n",
       "169001133    4.36\n",
       "169001134    0.85\n",
       "169001135    0.88\n",
       "169001136    1.95\n",
       "169001137    4.60\n",
       "dtype: float64"
      ]
     },
     "execution_count": 38,
     "metadata": {},
     "output_type": "execute_result"
    }
   ],
   "source": [
    "redPocket.drop(-1, inplace=True)  #如果没有inplace参数，之后在返回的Series中删除该行，原来的Series并不会改变。\n",
    "redPocket"
   ]
  },
  {
   "cell_type": "markdown",
   "metadata": {},
   "source": [
    "由于会产生上述的混淆，我们一般不采用整数作为Series的标签，而是采用字符串。\n",
    "\n",
    "### 推荐使用字符串为标签"
   ]
  },
  {
   "cell_type": "code",
   "execution_count": 39,
   "metadata": {},
   "outputs": [
    {
     "data": {
      "text/plain": [
       "Int64Index([169001101, 169001102, 169001103, 169001104, 169001105, 169001106,\n",
       "            169001107, 169001108, 169001109, 169001110, 169001111, 169001112,\n",
       "            169001113, 169001114, 169001115, 169001116, 169001117, 169001118,\n",
       "            169001119, 169001120, 169001121, 169001122, 169001123, 169001124,\n",
       "            169001125, 169001126, 169001127, 169001128, 169001129, 169001130,\n",
       "            169001131, 169001132, 169001133, 169001134, 169001135, 169001136,\n",
       "            169001137],\n",
       "           dtype='int64')"
      ]
     },
     "execution_count": 39,
     "metadata": {},
     "output_type": "execute_result"
    }
   ],
   "source": [
    "redPocket.index    #我们先看看原来的index"
   ]
  },
  {
   "cell_type": "code",
   "execution_count": 40,
   "metadata": {},
   "outputs": [
    {
     "data": {
      "text/plain": [
       "169001101    0.09\n",
       "169001102    0.32\n",
       "169001103    0.07\n",
       "169001104    0.15\n",
       "169001105    4.56\n",
       "169001106    4.14\n",
       "169001107    3.33\n",
       "169001108    4.30\n",
       "169001109    1.91\n",
       "169001110    3.81\n",
       "169001111    4.61\n",
       "169001112    2.71\n",
       "169001113    2.77\n",
       "169001114    1.46\n",
       "169001115    5.30\n",
       "169001116    1.60\n",
       "169001117    0.35\n",
       "169001118    1.58\n",
       "169001119    4.72\n",
       "169001120    0.42\n",
       "169001121    4.44\n",
       "169001122    4.05\n",
       "169001123    5.24\n",
       "169001124    2.16\n",
       "169001125    2.78\n",
       "169001126    1.65\n",
       "169001127    3.62\n",
       "169001128    3.61\n",
       "169001129    2.86\n",
       "169001130    1.11\n",
       "169001131    3.10\n",
       "169001132    4.54\n",
       "169001133    4.36\n",
       "169001134    0.85\n",
       "169001135    0.88\n",
       "169001136    1.95\n",
       "169001137    4.60\n",
       "dtype: float64"
      ]
     },
     "execution_count": 40,
     "metadata": {},
     "output_type": "execute_result"
    }
   ],
   "source": [
    "redPocket.index=[str(i) for i in redPocket.index]\n",
    "redPocket"
   ]
  },
  {
   "cell_type": "code",
   "execution_count": 41,
   "metadata": {},
   "outputs": [
    {
     "data": {
      "text/plain": [
       "Index(['169001101', '169001102', '169001103', '169001104', '169001105',\n",
       "       '169001106', '169001107', '169001108', '169001109', '169001110',\n",
       "       '169001111', '169001112', '169001113', '169001114', '169001115',\n",
       "       '169001116', '169001117', '169001118', '169001119', '169001120',\n",
       "       '169001121', '169001122', '169001123', '169001124', '169001125',\n",
       "       '169001126', '169001127', '169001128', '169001129', '169001130',\n",
       "       '169001131', '169001132', '169001133', '169001134', '169001135',\n",
       "       '169001136', '169001137'],\n",
       "      dtype='object')"
      ]
     },
     "execution_count": 41,
     "metadata": {},
     "output_type": "execute_result"
    }
   ],
   "source": [
    "redPocket.index    #现在的index"
   ]
  },
  {
   "cell_type": "code",
   "execution_count": 42,
   "metadata": {},
   "outputs": [
    {
     "data": {
      "text/plain": [
       "4.6000000000000085"
      ]
     },
     "execution_count": 42,
     "metadata": {},
     "output_type": "execute_result"
    }
   ],
   "source": [
    "redPocket[-1]"
   ]
  },
  {
   "cell_type": "code",
   "execution_count": 43,
   "metadata": {},
   "outputs": [
    {
     "ename": "NameError",
     "evalue": "name 'loc' is not defined",
     "output_type": "error",
     "traceback": [
      "\u001b[1;31m---------------------------------------------------------------------------\u001b[0m",
      "\u001b[1;31mNameError\u001b[0m                                 Traceback (most recent call last)",
      "\u001b[1;32m<ipython-input-43-70dc2a7a1fab>\u001b[0m in \u001b[0;36m<module>\u001b[1;34m\u001b[0m\n\u001b[1;32m----> 1\u001b[1;33m \u001b[0mloc\u001b[0m\u001b[1;33m,\u001b[0m \u001b[0miloc\u001b[0m\u001b[1;33m\u001b[0m\u001b[1;33m\u001b[0m\u001b[0m\n\u001b[0m",
      "\u001b[1;31mNameError\u001b[0m: name 'loc' is not defined"
     ]
    }
   ],
   "source": [
    "loc, iloc"
   ]
  },
  {
   "cell_type": "code",
   "execution_count": 44,
   "metadata": {},
   "outputs": [
    {
     "data": {
      "text/plain": [
       "169001101    0.09\n",
       "169001102    0.32\n",
       "169001103    0.07\n",
       "169001104    0.15\n",
       "169001105    4.56\n",
       "169001106    4.14\n",
       "169001107    3.33\n",
       "169001108    4.30\n",
       "169001109    1.91\n",
       "169001110    3.81\n",
       "169001111    4.61\n",
       "169001112    2.71\n",
       "169001113    2.77\n",
       "169001114    1.46\n",
       "169001115    5.30\n",
       "169001116    1.60\n",
       "169001117    0.35\n",
       "169001118    1.58\n",
       "169001119    4.72\n",
       "169001120    0.42\n",
       "169001121    4.44\n",
       "169001122    4.05\n",
       "169001123    5.24\n",
       "169001124    2.16\n",
       "169001125    2.78\n",
       "169001126    1.65\n",
       "169001127    3.62\n",
       "169001128    3.61\n",
       "169001129    2.86\n",
       "169001130    1.11\n",
       "169001131    3.10\n",
       "169001132    4.54\n",
       "169001133    4.36\n",
       "169001134    0.85\n",
       "169001135    0.88\n",
       "169001136    1.95\n",
       "169001137    0.78\n",
       "dtype: float64"
      ]
     },
     "execution_count": 44,
     "metadata": {},
     "output_type": "execute_result"
    }
   ],
   "source": [
    "redPocket[-1]=0.78 #3.14159    #现在的-1就没有歧义了，python明白这是个切片，而不是标签\n",
    "redPocket"
   ]
  },
  {
   "cell_type": "markdown",
   "metadata": {},
   "source": [
    "### 使用图表查看Series中的数据\n",
    "\n",
    "matplotlib是一个python下的极为强大的绘图库，pandas的对象都内置了简易绘图方法。详细的matplotlib绘图后面有机会再讲。"
   ]
  },
  {
   "cell_type": "code",
   "execution_count": 45,
   "metadata": {},
   "outputs": [
    {
     "data": {
      "text/plain": [
       "<matplotlib.axes._subplots.AxesSubplot at 0x87e54e0>"
      ]
     },
     "execution_count": 45,
     "metadata": {},
     "output_type": "execute_result"
    }
   ],
   "source": [
    "import matplotlib          #虽然已经内置了plot功能，我们仍然需要在我们的代码中import这个库\n",
    "redPocket.plot()           #默认图"
   ]
  },
  {
   "cell_type": "code",
   "execution_count": 46,
   "metadata": {},
   "outputs": [
    {
     "data": {
      "text/plain": [
       "<matplotlib.axes._subplots.AxesSubplot at 0x88a5390>"
      ]
     },
     "execution_count": 46,
     "metadata": {},
     "output_type": "execute_result"
    },
    {
     "data": {
      "image/png": "[encoded data removed]",
      "text/plain": [
       "<Figure size 432x288 with 1 Axes>"
      ]
     },
     "metadata": {
      "needs_background": "light"
     },
     "output_type": "display_data"
    }
   ],
   "source": [
    "redPocket.plot(kind='bar')       #条状图"
   ]
  },
  {
   "cell_type": "code",
   "execution_count": 47,
   "metadata": {},
   "outputs": [
    {
     "data": {
      "text/plain": [
       "<matplotlib.axes._subplots.AxesSubplot at 0x8b141d0>"
      ]
     },
     "execution_count": 47,
     "metadata": {},
     "output_type": "execute_result"
    },
    {
     "data": {
      "image/png": "[encoded data removed]",
      "text/plain": [
       "<Figure size 720x576 with 1 Axes>"
      ]
     },
     "metadata": {
      "needs_background": "light"
     },
     "output_type": "display_data"
    }
   ],
   "source": [
    "redPocket.plot(kind='barh', figsize=(10,8))       #横向条状图, 并设置图片大小"
   ]
  },
  {
   "cell_type": "code",
   "execution_count": 48,
   "metadata": {},
   "outputs": [
    {
     "data": {
      "text/plain": [
       "<matplotlib.axes._subplots.AxesSubplot at 0x8b14198>"
      ]
     },
     "execution_count": 48,
     "metadata": {},
     "output_type": "execute_result"
    },
    {
     "data": {
      "image/png": "[encoded data removed]",
      "text/plain": [
       "<Figure size 720x720 with 1 Axes>"
      ]
     },
     "metadata": {},
     "output_type": "display_data"
    }
   ],
   "source": [
    "redPocket.plot(kind='pie', figsize=(10,10), title=\"Red Pocket\")       #横向条状图, 并设置图片大小 和标题"
   ]
  },
  {
   "cell_type": "code",
   "execution_count": 49,
   "metadata": {},
   "outputs": [
    {
     "data": {
      "text/plain": [
       "<matplotlib.axes._subplots.AxesSubplot at 0x8c6a9b0>"
      ]
     },
     "execution_count": 49,
     "metadata": {},
     "output_type": "execute_result"
    },
    {
     "data": {
      "image/png": "[encoded data removed]",
      "text/plain": [
       "<Figure size 432x288 with 1 Axes>"
      ]
     },
     "metadata": {
      "needs_background": "light"
     },
     "output_type": "display_data"
    }
   ],
   "source": [
    "redPocket.plot(kind='hist', color='red')          #直方图，用于统计各个值的比重， 并设置颜色为红色"
   ]
  },
  {
   "cell_type": "code",
   "execution_count": 50,
   "metadata": {},
   "outputs": [
    {
     "data": {
      "text/plain": [
       "<matplotlib.axes._subplots.AxesSubplot at 0x8cfae10>"
      ]
     },
     "execution_count": 50,
     "metadata": {},
     "output_type": "execute_result"
    },
    {
     "data": {
      "image/png": "[encoded data removed]",
      "text/plain": [
       "<Figure size 432x288 with 1 Axes>"
      ]
     },
     "metadata": {
      "needs_background": "light"
     },
     "output_type": "display_data"
    }
   ],
   "source": [
    "redPocket.plot(kind='kde')        # Kernel Density Estimation 核密度估计图，在概率论中用来估计随机变量的密度，可视作平滑后的直方图"
   ]
  },
  {
   "attachments": {
    "%E5%9B%BE%E7%89%87.png": {
     "image/png": "[encoded data removed]"
    }
   },
   "cell_type": "markdown",
   "metadata": {},
   "source": [
    "----\n",
    "\n",
    "## DataFrame\n",
    "\n",
    "DataFrame这种列表式数据结构跟我们常见的Excel极为相似。其设计初衷就是将Series的使用场景由一维扩展到多维。DataFrame由按一定数序排列的多列数据组成，各列的数据类型可以有所不同。\n",
    "\n",
    "![%E5%9B%BE%E7%89%87.png](attachment:%E5%9B%BE%E7%89%87.png)\n",
    "\n",
    "Series对象的index数组存放有每一个元素的标签，而DataFrame对象则有所不同，它有两个索引数组，第一个数组与行相关，它与Series的索引数组极为相似。每个标签与标签所在行的所有元素相关联。而第二个数组包含一系列列标签，每个标签与一列数据相关联。\n",
    "\n",
    "DataFrame还可以理解为**一个由Series组成的字典，其中每一列的名称为字典的键，形成DataFrame的列的Series作为字典的值**。\n",
    "\n"
   ]
  },
  {
   "cell_type": "code",
   "execution_count": 51,
   "metadata": {},
   "outputs": [
    {
     "data": {
      "text/html": [
       "<div>\n",
       "<style scoped>\n",
       "    .dataframe tbody tr th:only-of-type {\n",
       "        vertical-align: middle;\n",
       "    }\n",
       "\n",
       "    .dataframe tbody tr th {\n",
       "        vertical-align: top;\n",
       "    }\n",
       "\n",
       "    .dataframe thead th {\n",
       "        text-align: right;\n",
       "    }\n",
       "</style>\n",
       "<table border=\"1\" class=\"dataframe\">\n",
       "  <thead>\n",
       "    <tr style=\"text-align: right;\">\n",
       "      <th></th>\n",
       "      <th>A</th>\n",
       "      <th>B</th>\n",
       "      <th>C</th>\n",
       "      <th>D</th>\n",
       "      <th>E</th>\n",
       "    </tr>\n",
       "  </thead>\n",
       "  <tbody>\n",
       "    <tr>\n",
       "      <th>1</th>\n",
       "      <td>0.416440</td>\n",
       "      <td>0.477595</td>\n",
       "      <td>-0.591076</td>\n",
       "      <td>1.200177</td>\n",
       "      <td>-0.337426</td>\n",
       "    </tr>\n",
       "    <tr>\n",
       "      <th>2</th>\n",
       "      <td>0.108185</td>\n",
       "      <td>-0.287267</td>\n",
       "      <td>0.348881</td>\n",
       "      <td>0.954203</td>\n",
       "      <td>-1.037946</td>\n",
       "    </tr>\n",
       "    <tr>\n",
       "      <th>3</th>\n",
       "      <td>1.540117</td>\n",
       "      <td>0.142005</td>\n",
       "      <td>-1.809671</td>\n",
       "      <td>0.183935</td>\n",
       "      <td>-0.618700</td>\n",
       "    </tr>\n",
       "    <tr>\n",
       "      <th>4</th>\n",
       "      <td>-0.344579</td>\n",
       "      <td>-1.053315</td>\n",
       "      <td>-1.826047</td>\n",
       "      <td>1.269679</td>\n",
       "      <td>-1.049453</td>\n",
       "    </tr>\n",
       "  </tbody>\n",
       "</table>\n",
       "</div>"
      ],
      "text/plain": [
       "          A         B         C         D         E\n",
       "1  0.416440  0.477595 -0.591076  1.200177 -0.337426\n",
       "2  0.108185 -0.287267  0.348881  0.954203 -1.037946\n",
       "3  1.540117  0.142005 -1.809671  0.183935 -0.618700\n",
       "4 -0.344579 -1.053315 -1.826047  1.269679 -1.049453"
      ]
     },
     "execution_count": 51,
     "metadata": {},
     "output_type": "execute_result"
    }
   ],
   "source": [
    "import numpy as np\n",
    "df = pd.DataFrame(np.random.randn(4, 5), columns=['A', 'B', 'C', 'D', 'E'], \n",
    "                  index=range(1,5)) #按第一种理解方式创建DataFrame\n",
    "df"
   ]
  },
  {
   "cell_type": "code",
   "execution_count": 52,
   "metadata": {},
   "outputs": [
    {
     "data": {
      "text/html": [
       "<div>\n",
       "<style scoped>\n",
       "    .dataframe tbody tr th:only-of-type {\n",
       "        vertical-align: middle;\n",
       "    }\n",
       "\n",
       "    .dataframe tbody tr th {\n",
       "        vertical-align: top;\n",
       "    }\n",
       "\n",
       "    .dataframe thead th {\n",
       "        text-align: right;\n",
       "    }\n",
       "</style>\n",
       "<table border=\"1\" class=\"dataframe\">\n",
       "  <thead>\n",
       "    <tr style=\"text-align: right;\">\n",
       "      <th></th>\n",
       "      <th>A</th>\n",
       "      <th>B</th>\n",
       "      <th>C</th>\n",
       "      <th>D</th>\n",
       "      <th>E</th>\n",
       "    </tr>\n",
       "  </thead>\n",
       "  <tbody>\n",
       "    <tr>\n",
       "      <th>count</th>\n",
       "      <td>4.000000</td>\n",
       "      <td>4.000000</td>\n",
       "      <td>4.000000</td>\n",
       "      <td>4.000000</td>\n",
       "      <td>4.000000</td>\n",
       "    </tr>\n",
       "    <tr>\n",
       "      <th>mean</th>\n",
       "      <td>0.430040</td>\n",
       "      <td>-0.180245</td>\n",
       "      <td>-0.969478</td>\n",
       "      <td>0.901998</td>\n",
       "      <td>-0.760881</td>\n",
       "    </tr>\n",
       "    <tr>\n",
       "      <th>std</th>\n",
       "      <td>0.803343</td>\n",
       "      <td>0.660884</td>\n",
       "      <td>1.052124</td>\n",
       "      <td>0.497474</td>\n",
       "      <td>0.346203</td>\n",
       "    </tr>\n",
       "    <tr>\n",
       "      <th>min</th>\n",
       "      <td>-0.344579</td>\n",
       "      <td>-1.053315</td>\n",
       "      <td>-1.826047</td>\n",
       "      <td>0.183935</td>\n",
       "      <td>-1.049453</td>\n",
       "    </tr>\n",
       "    <tr>\n",
       "      <th>25%</th>\n",
       "      <td>-0.005006</td>\n",
       "      <td>-0.478779</td>\n",
       "      <td>-1.813765</td>\n",
       "      <td>0.761636</td>\n",
       "      <td>-1.040823</td>\n",
       "    </tr>\n",
       "    <tr>\n",
       "      <th>50%</th>\n",
       "      <td>0.262312</td>\n",
       "      <td>-0.072631</td>\n",
       "      <td>-1.200374</td>\n",
       "      <td>1.077190</td>\n",
       "      <td>-0.828323</td>\n",
       "    </tr>\n",
       "    <tr>\n",
       "      <th>75%</th>\n",
       "      <td>0.697359</td>\n",
       "      <td>0.225902</td>\n",
       "      <td>-0.356087</td>\n",
       "      <td>1.217552</td>\n",
       "      <td>-0.548381</td>\n",
       "    </tr>\n",
       "    <tr>\n",
       "      <th>max</th>\n",
       "      <td>1.540117</td>\n",
       "      <td>0.477595</td>\n",
       "      <td>0.348881</td>\n",
       "      <td>1.269679</td>\n",
       "      <td>-0.337426</td>\n",
       "    </tr>\n",
       "  </tbody>\n",
       "</table>\n",
       "</div>"
      ],
      "text/plain": [
       "              A         B         C         D         E\n",
       "count  4.000000  4.000000  4.000000  4.000000  4.000000\n",
       "mean   0.430040 -0.180245 -0.969478  0.901998 -0.760881\n",
       "std    0.803343  0.660884  1.052124  0.497474  0.346203\n",
       "min   -0.344579 -1.053315 -1.826047  0.183935 -1.049453\n",
       "25%   -0.005006 -0.478779 -1.813765  0.761636 -1.040823\n",
       "50%    0.262312 -0.072631 -1.200374  1.077190 -0.828323\n",
       "75%    0.697359  0.225902 -0.356087  1.217552 -0.548381\n",
       "max    1.540117  0.477595  0.348881  1.269679 -0.337426"
      ]
     },
     "execution_count": 52,
     "metadata": {},
     "output_type": "execute_result"
    }
   ],
   "source": [
    "df.describe()       #基本统计"
   ]
  },
  {
   "cell_type": "code",
   "execution_count": 53,
   "metadata": {},
   "outputs": [
    {
     "data": {
      "text/plain": [
       "<matplotlib.axes._subplots.AxesSubplot at 0xb240e48>"
      ]
     },
     "execution_count": 53,
     "metadata": {},
     "output_type": "execute_result"
    },
    {
     "data": {
      "image/png": "[encoded data removed]",
      "text/plain": [
       "<Figure size 432x288 with 1 Axes>"
      ]
     },
     "metadata": {
      "needs_background": "light"
     },
     "output_type": "display_data"
    }
   ],
   "source": [
    "import matplotlib\n",
    "df.plot()"
   ]
  },
  {
   "cell_type": "code",
   "execution_count": null,
   "metadata": {},
   "outputs": [],
   "source": [
    "student = {                                                                 #按第二种理解方式创建DataFrame\n",
    "    '名字':['张三','李四','王五','赵六','孙七'],\n",
    "    '成绩':[60,75,82,50,90],\n",
    "    'ID':['169001101','169001102','169001103','169001104','169001105'] \n",
    "}\n",
    "df = pd.DataFrame(student)\n",
    "df"
   ]
  },
  {
   "cell_type": "code",
   "execution_count": 54,
   "metadata": {},
   "outputs": [
    {
     "data": {
      "text/plain": [
       "(4, 5)"
      ]
     },
     "execution_count": 54,
     "metadata": {},
     "output_type": "execute_result"
    }
   ],
   "source": [
    "df.shape"
   ]
  },
  {
   "cell_type": "code",
   "execution_count": 55,
   "metadata": {},
   "outputs": [
    {
     "data": {
      "text/html": [
       "<div>\n",
       "<style scoped>\n",
       "    .dataframe tbody tr th:only-of-type {\n",
       "        vertical-align: middle;\n",
       "    }\n",
       "\n",
       "    .dataframe tbody tr th {\n",
       "        vertical-align: top;\n",
       "    }\n",
       "\n",
       "    .dataframe thead th {\n",
       "        text-align: right;\n",
       "    }\n",
       "</style>\n",
       "<table border=\"1\" class=\"dataframe\">\n",
       "  <thead>\n",
       "    <tr style=\"text-align: right;\">\n",
       "      <th></th>\n",
       "      <th>A</th>\n",
       "      <th>B</th>\n",
       "      <th>C</th>\n",
       "      <th>D</th>\n",
       "      <th>E</th>\n",
       "    </tr>\n",
       "  </thead>\n",
       "  <tbody>\n",
       "    <tr>\n",
       "      <th>count</th>\n",
       "      <td>4.000000</td>\n",
       "      <td>4.000000</td>\n",
       "      <td>4.000000</td>\n",
       "      <td>4.000000</td>\n",
       "      <td>4.000000</td>\n",
       "    </tr>\n",
       "    <tr>\n",
       "      <th>mean</th>\n",
       "      <td>0.430040</td>\n",
       "      <td>-0.180245</td>\n",
       "      <td>-0.969478</td>\n",
       "      <td>0.901998</td>\n",
       "      <td>-0.760881</td>\n",
       "    </tr>\n",
       "    <tr>\n",
       "      <th>std</th>\n",
       "      <td>0.803343</td>\n",
       "      <td>0.660884</td>\n",
       "      <td>1.052124</td>\n",
       "      <td>0.497474</td>\n",
       "      <td>0.346203</td>\n",
       "    </tr>\n",
       "    <tr>\n",
       "      <th>min</th>\n",
       "      <td>-0.344579</td>\n",
       "      <td>-1.053315</td>\n",
       "      <td>-1.826047</td>\n",
       "      <td>0.183935</td>\n",
       "      <td>-1.049453</td>\n",
       "    </tr>\n",
       "    <tr>\n",
       "      <th>25%</th>\n",
       "      <td>-0.005006</td>\n",
       "      <td>-0.478779</td>\n",
       "      <td>-1.813765</td>\n",
       "      <td>0.761636</td>\n",
       "      <td>-1.040823</td>\n",
       "    </tr>\n",
       "    <tr>\n",
       "      <th>50%</th>\n",
       "      <td>0.262312</td>\n",
       "      <td>-0.072631</td>\n",
       "      <td>-1.200374</td>\n",
       "      <td>1.077190</td>\n",
       "      <td>-0.828323</td>\n",
       "    </tr>\n",
       "    <tr>\n",
       "      <th>75%</th>\n",
       "      <td>0.697359</td>\n",
       "      <td>0.225902</td>\n",
       "      <td>-0.356087</td>\n",
       "      <td>1.217552</td>\n",
       "      <td>-0.548381</td>\n",
       "    </tr>\n",
       "    <tr>\n",
       "      <th>max</th>\n",
       "      <td>1.540117</td>\n",
       "      <td>0.477595</td>\n",
       "      <td>0.348881</td>\n",
       "      <td>1.269679</td>\n",
       "      <td>-0.337426</td>\n",
       "    </tr>\n",
       "  </tbody>\n",
       "</table>\n",
       "</div>"
      ],
      "text/plain": [
       "              A         B         C         D         E\n",
       "count  4.000000  4.000000  4.000000  4.000000  4.000000\n",
       "mean   0.430040 -0.180245 -0.969478  0.901998 -0.760881\n",
       "std    0.803343  0.660884  1.052124  0.497474  0.346203\n",
       "min   -0.344579 -1.053315 -1.826047  0.183935 -1.049453\n",
       "25%   -0.005006 -0.478779 -1.813765  0.761636 -1.040823\n",
       "50%    0.262312 -0.072631 -1.200374  1.077190 -0.828323\n",
       "75%    0.697359  0.225902 -0.356087  1.217552 -0.548381\n",
       "max    1.540117  0.477595  0.348881  1.269679 -0.337426"
      ]
     },
     "execution_count": 55,
     "metadata": {},
     "output_type": "execute_result"
    }
   ],
   "source": [
    "df.describe()  #只对类型为数字的列进行基本统计"
   ]
  },
  {
   "cell_type": "markdown",
   "metadata": {},
   "source": [
    "### 访问"
   ]
  },
  {
   "cell_type": "markdown",
   "metadata": {},
   "source": [
    "要访问DataFrame，需要先使用列的名称（名字，成绩，ID都是列的名称）得到该列对应的Series对象，然后使用下标或者标签访问Series中的元素，如何访问Series我们上面已经了解过了。"
   ]
  },
  {
   "cell_type": "code",
   "execution_count": 56,
   "metadata": {},
   "outputs": [
    {
     "ename": "KeyError",
     "evalue": "'名字'",
     "output_type": "error",
     "traceback": [
      "\u001b[1;31m---------------------------------------------------------------------------\u001b[0m",
      "\u001b[1;31mKeyError\u001b[0m                                  Traceback (most recent call last)",
      "\u001b[1;32mF:\\anaconda\\lib\\site-packages\\pandas\\core\\indexes\\base.py\u001b[0m in \u001b[0;36mget_loc\u001b[1;34m(self, key, method, tolerance)\u001b[0m\n\u001b[0;32m   3077\u001b[0m             \u001b[1;32mtry\u001b[0m\u001b[1;33m:\u001b[0m\u001b[1;33m\u001b[0m\u001b[1;33m\u001b[0m\u001b[0m\n\u001b[1;32m-> 3078\u001b[1;33m                 \u001b[1;32mreturn\u001b[0m \u001b[0mself\u001b[0m\u001b[1;33m.\u001b[0m\u001b[0m_engine\u001b[0m\u001b[1;33m.\u001b[0m\u001b[0mget_loc\u001b[0m\u001b[1;33m(\u001b[0m\u001b[0mkey\u001b[0m\u001b[1;33m)\u001b[0m\u001b[1;33m\u001b[0m\u001b[1;33m\u001b[0m\u001b[0m\n\u001b[0m\u001b[0;32m   3079\u001b[0m             \u001b[1;32mexcept\u001b[0m \u001b[0mKeyError\u001b[0m\u001b[1;33m:\u001b[0m\u001b[1;33m\u001b[0m\u001b[1;33m\u001b[0m\u001b[0m\n",
      "\u001b[1;32mpandas\\_libs\\index.pyx\u001b[0m in \u001b[0;36mpandas._libs.index.IndexEngine.get_loc\u001b[1;34m()\u001b[0m\n",
      "\u001b[1;32mpandas\\_libs\\index.pyx\u001b[0m in \u001b[0;36mpandas._libs.index.IndexEngine.get_loc\u001b[1;34m()\u001b[0m\n",
      "\u001b[1;32mpandas\\_libs\\hashtable_class_helper.pxi\u001b[0m in \u001b[0;36mpandas._libs.hashtable.PyObjectHashTable.get_item\u001b[1;34m()\u001b[0m\n",
      "\u001b[1;32mpandas\\_libs\\hashtable_class_helper.pxi\u001b[0m in \u001b[0;36mpandas._libs.hashtable.PyObjectHashTable.get_item\u001b[1;34m()\u001b[0m\n",
      "\u001b[1;31mKeyError\u001b[0m: '名字'",
      "\nDuring handling of the above exception, another exception occurred:\n",
      "\u001b[1;31mKeyError\u001b[0m                                  Traceback (most recent call last)",
      "\u001b[1;32m<ipython-input-56-a176462bb10f>\u001b[0m in \u001b[0;36m<module>\u001b[1;34m\u001b[0m\n\u001b[1;32m----> 1\u001b[1;33m \u001b[0mdf\u001b[0m\u001b[1;33m[\u001b[0m\u001b[1;34m'名字'\u001b[0m\u001b[1;33m]\u001b[0m\u001b[1;33m\u001b[0m\u001b[1;33m\u001b[0m\u001b[0m\n\u001b[0m",
      "\u001b[1;32mF:\\anaconda\\lib\\site-packages\\pandas\\core\\frame.py\u001b[0m in \u001b[0;36m__getitem__\u001b[1;34m(self, key)\u001b[0m\n\u001b[0;32m   2686\u001b[0m             \u001b[1;32mreturn\u001b[0m \u001b[0mself\u001b[0m\u001b[1;33m.\u001b[0m\u001b[0m_getitem_multilevel\u001b[0m\u001b[1;33m(\u001b[0m\u001b[0mkey\u001b[0m\u001b[1;33m)\u001b[0m\u001b[1;33m\u001b[0m\u001b[1;33m\u001b[0m\u001b[0m\n\u001b[0;32m   2687\u001b[0m         \u001b[1;32melse\u001b[0m\u001b[1;33m:\u001b[0m\u001b[1;33m\u001b[0m\u001b[1;33m\u001b[0m\u001b[0m\n\u001b[1;32m-> 2688\u001b[1;33m             \u001b[1;32mreturn\u001b[0m \u001b[0mself\u001b[0m\u001b[1;33m.\u001b[0m\u001b[0m_getitem_column\u001b[0m\u001b[1;33m(\u001b[0m\u001b[0mkey\u001b[0m\u001b[1;33m)\u001b[0m\u001b[1;33m\u001b[0m\u001b[1;33m\u001b[0m\u001b[0m\n\u001b[0m\u001b[0;32m   2689\u001b[0m \u001b[1;33m\u001b[0m\u001b[0m\n\u001b[0;32m   2690\u001b[0m     \u001b[1;32mdef\u001b[0m \u001b[0m_getitem_column\u001b[0m\u001b[1;33m(\u001b[0m\u001b[0mself\u001b[0m\u001b[1;33m,\u001b[0m \u001b[0mkey\u001b[0m\u001b[1;33m)\u001b[0m\u001b[1;33m:\u001b[0m\u001b[1;33m\u001b[0m\u001b[1;33m\u001b[0m\u001b[0m\n",
      "\u001b[1;32mF:\\anaconda\\lib\\site-packages\\pandas\\core\\frame.py\u001b[0m in \u001b[0;36m_getitem_column\u001b[1;34m(self, key)\u001b[0m\n\u001b[0;32m   2693\u001b[0m         \u001b[1;31m# get column\u001b[0m\u001b[1;33m\u001b[0m\u001b[1;33m\u001b[0m\u001b[1;33m\u001b[0m\u001b[0m\n\u001b[0;32m   2694\u001b[0m         \u001b[1;32mif\u001b[0m \u001b[0mself\u001b[0m\u001b[1;33m.\u001b[0m\u001b[0mcolumns\u001b[0m\u001b[1;33m.\u001b[0m\u001b[0mis_unique\u001b[0m\u001b[1;33m:\u001b[0m\u001b[1;33m\u001b[0m\u001b[1;33m\u001b[0m\u001b[0m\n\u001b[1;32m-> 2695\u001b[1;33m             \u001b[1;32mreturn\u001b[0m \u001b[0mself\u001b[0m\u001b[1;33m.\u001b[0m\u001b[0m_get_item_cache\u001b[0m\u001b[1;33m(\u001b[0m\u001b[0mkey\u001b[0m\u001b[1;33m)\u001b[0m\u001b[1;33m\u001b[0m\u001b[1;33m\u001b[0m\u001b[0m\n\u001b[0m\u001b[0;32m   2696\u001b[0m \u001b[1;33m\u001b[0m\u001b[0m\n\u001b[0;32m   2697\u001b[0m         \u001b[1;31m# duplicate columns & possible reduce dimensionality\u001b[0m\u001b[1;33m\u001b[0m\u001b[1;33m\u001b[0m\u001b[1;33m\u001b[0m\u001b[0m\n",
      "\u001b[1;32mF:\\anaconda\\lib\\site-packages\\pandas\\core\\generic.py\u001b[0m in \u001b[0;36m_get_item_cache\u001b[1;34m(self, item)\u001b[0m\n\u001b[0;32m   2487\u001b[0m         \u001b[0mres\u001b[0m \u001b[1;33m=\u001b[0m \u001b[0mcache\u001b[0m\u001b[1;33m.\u001b[0m\u001b[0mget\u001b[0m\u001b[1;33m(\u001b[0m\u001b[0mitem\u001b[0m\u001b[1;33m)\u001b[0m\u001b[1;33m\u001b[0m\u001b[1;33m\u001b[0m\u001b[0m\n\u001b[0;32m   2488\u001b[0m         \u001b[1;32mif\u001b[0m \u001b[0mres\u001b[0m \u001b[1;32mis\u001b[0m \u001b[1;32mNone\u001b[0m\u001b[1;33m:\u001b[0m\u001b[1;33m\u001b[0m\u001b[1;33m\u001b[0m\u001b[0m\n\u001b[1;32m-> 2489\u001b[1;33m             \u001b[0mvalues\u001b[0m \u001b[1;33m=\u001b[0m \u001b[0mself\u001b[0m\u001b[1;33m.\u001b[0m\u001b[0m_data\u001b[0m\u001b[1;33m.\u001b[0m\u001b[0mget\u001b[0m\u001b[1;33m(\u001b[0m\u001b[0mitem\u001b[0m\u001b[1;33m)\u001b[0m\u001b[1;33m\u001b[0m\u001b[1;33m\u001b[0m\u001b[0m\n\u001b[0m\u001b[0;32m   2490\u001b[0m             \u001b[0mres\u001b[0m \u001b[1;33m=\u001b[0m \u001b[0mself\u001b[0m\u001b[1;33m.\u001b[0m\u001b[0m_box_item_values\u001b[0m\u001b[1;33m(\u001b[0m\u001b[0mitem\u001b[0m\u001b[1;33m,\u001b[0m \u001b[0mvalues\u001b[0m\u001b[1;33m)\u001b[0m\u001b[1;33m\u001b[0m\u001b[1;33m\u001b[0m\u001b[0m\n\u001b[0;32m   2491\u001b[0m             \u001b[0mcache\u001b[0m\u001b[1;33m[\u001b[0m\u001b[0mitem\u001b[0m\u001b[1;33m]\u001b[0m \u001b[1;33m=\u001b[0m \u001b[0mres\u001b[0m\u001b[1;33m\u001b[0m\u001b[1;33m\u001b[0m\u001b[0m\n",
      "\u001b[1;32mF:\\anaconda\\lib\\site-packages\\pandas\\core\\internals.py\u001b[0m in \u001b[0;36mget\u001b[1;34m(self, item, fastpath)\u001b[0m\n\u001b[0;32m   4113\u001b[0m \u001b[1;33m\u001b[0m\u001b[0m\n\u001b[0;32m   4114\u001b[0m             \u001b[1;32mif\u001b[0m \u001b[1;32mnot\u001b[0m \u001b[0misna\u001b[0m\u001b[1;33m(\u001b[0m\u001b[0mitem\u001b[0m\u001b[1;33m)\u001b[0m\u001b[1;33m:\u001b[0m\u001b[1;33m\u001b[0m\u001b[1;33m\u001b[0m\u001b[0m\n\u001b[1;32m-> 4115\u001b[1;33m                 \u001b[0mloc\u001b[0m \u001b[1;33m=\u001b[0m \u001b[0mself\u001b[0m\u001b[1;33m.\u001b[0m\u001b[0mitems\u001b[0m\u001b[1;33m.\u001b[0m\u001b[0mget_loc\u001b[0m\u001b[1;33m(\u001b[0m\u001b[0mitem\u001b[0m\u001b[1;33m)\u001b[0m\u001b[1;33m\u001b[0m\u001b[1;33m\u001b[0m\u001b[0m\n\u001b[0m\u001b[0;32m   4116\u001b[0m             \u001b[1;32melse\u001b[0m\u001b[1;33m:\u001b[0m\u001b[1;33m\u001b[0m\u001b[1;33m\u001b[0m\u001b[0m\n\u001b[0;32m   4117\u001b[0m                 \u001b[0mindexer\u001b[0m \u001b[1;33m=\u001b[0m \u001b[0mnp\u001b[0m\u001b[1;33m.\u001b[0m\u001b[0marange\u001b[0m\u001b[1;33m(\u001b[0m\u001b[0mlen\u001b[0m\u001b[1;33m(\u001b[0m\u001b[0mself\u001b[0m\u001b[1;33m.\u001b[0m\u001b[0mitems\u001b[0m\u001b[1;33m)\u001b[0m\u001b[1;33m)\u001b[0m\u001b[1;33m[\u001b[0m\u001b[0misna\u001b[0m\u001b[1;33m(\u001b[0m\u001b[0mself\u001b[0m\u001b[1;33m.\u001b[0m\u001b[0mitems\u001b[0m\u001b[1;33m)\u001b[0m\u001b[1;33m]\u001b[0m\u001b[1;33m\u001b[0m\u001b[1;33m\u001b[0m\u001b[0m\n",
      "\u001b[1;32mF:\\anaconda\\lib\\site-packages\\pandas\\core\\indexes\\base.py\u001b[0m in \u001b[0;36mget_loc\u001b[1;34m(self, key, method, tolerance)\u001b[0m\n\u001b[0;32m   3078\u001b[0m                 \u001b[1;32mreturn\u001b[0m \u001b[0mself\u001b[0m\u001b[1;33m.\u001b[0m\u001b[0m_engine\u001b[0m\u001b[1;33m.\u001b[0m\u001b[0mget_loc\u001b[0m\u001b[1;33m(\u001b[0m\u001b[0mkey\u001b[0m\u001b[1;33m)\u001b[0m\u001b[1;33m\u001b[0m\u001b[1;33m\u001b[0m\u001b[0m\n\u001b[0;32m   3079\u001b[0m             \u001b[1;32mexcept\u001b[0m \u001b[0mKeyError\u001b[0m\u001b[1;33m:\u001b[0m\u001b[1;33m\u001b[0m\u001b[1;33m\u001b[0m\u001b[0m\n\u001b[1;32m-> 3080\u001b[1;33m                 \u001b[1;32mreturn\u001b[0m \u001b[0mself\u001b[0m\u001b[1;33m.\u001b[0m\u001b[0m_engine\u001b[0m\u001b[1;33m.\u001b[0m\u001b[0mget_loc\u001b[0m\u001b[1;33m(\u001b[0m\u001b[0mself\u001b[0m\u001b[1;33m.\u001b[0m\u001b[0m_maybe_cast_indexer\u001b[0m\u001b[1;33m(\u001b[0m\u001b[0mkey\u001b[0m\u001b[1;33m)\u001b[0m\u001b[1;33m)\u001b[0m\u001b[1;33m\u001b[0m\u001b[1;33m\u001b[0m\u001b[0m\n\u001b[0m\u001b[0;32m   3081\u001b[0m \u001b[1;33m\u001b[0m\u001b[0m\n\u001b[0;32m   3082\u001b[0m         \u001b[0mindexer\u001b[0m \u001b[1;33m=\u001b[0m \u001b[0mself\u001b[0m\u001b[1;33m.\u001b[0m\u001b[0mget_indexer\u001b[0m\u001b[1;33m(\u001b[0m\u001b[1;33m[\u001b[0m\u001b[0mkey\u001b[0m\u001b[1;33m]\u001b[0m\u001b[1;33m,\u001b[0m \u001b[0mmethod\u001b[0m\u001b[1;33m=\u001b[0m\u001b[0mmethod\u001b[0m\u001b[1;33m,\u001b[0m \u001b[0mtolerance\u001b[0m\u001b[1;33m=\u001b[0m\u001b[0mtolerance\u001b[0m\u001b[1;33m)\u001b[0m\u001b[1;33m\u001b[0m\u001b[1;33m\u001b[0m\u001b[0m\n",
      "\u001b[1;32mpandas\\_libs\\index.pyx\u001b[0m in \u001b[0;36mpandas._libs.index.IndexEngine.get_loc\u001b[1;34m()\u001b[0m\n",
      "\u001b[1;32mpandas\\_libs\\index.pyx\u001b[0m in \u001b[0;36mpandas._libs.index.IndexEngine.get_loc\u001b[1;34m()\u001b[0m\n",
      "\u001b[1;32mpandas\\_libs\\hashtable_class_helper.pxi\u001b[0m in \u001b[0;36mpandas._libs.hashtable.PyObjectHashTable.get_item\u001b[1;34m()\u001b[0m\n",
      "\u001b[1;32mpandas\\_libs\\hashtable_class_helper.pxi\u001b[0m in \u001b[0;36mpandas._libs.hashtable.PyObjectHashTable.get_item\u001b[1;34m()\u001b[0m\n",
      "\u001b[1;31mKeyError\u001b[0m: '名字'"
     ]
    }
   ],
   "source": [
    "df['名字']"
   ]
  },
  {
   "cell_type": "code",
   "execution_count": 57,
   "metadata": {},
   "outputs": [
    {
     "data": {
      "text/html": [
       "<div>\n",
       "<style scoped>\n",
       "    .dataframe tbody tr th:only-of-type {\n",
       "        vertical-align: middle;\n",
       "    }\n",
       "\n",
       "    .dataframe tbody tr th {\n",
       "        vertical-align: top;\n",
       "    }\n",
       "\n",
       "    .dataframe thead th {\n",
       "        text-align: right;\n",
       "    }\n",
       "</style>\n",
       "<table border=\"1\" class=\"dataframe\">\n",
       "  <thead>\n",
       "    <tr style=\"text-align: right;\">\n",
       "      <th></th>\n",
       "      <th>A</th>\n",
       "      <th>B</th>\n",
       "      <th>C</th>\n",
       "      <th>D</th>\n",
       "      <th>E</th>\n",
       "    </tr>\n",
       "  </thead>\n",
       "  <tbody>\n",
       "    <tr>\n",
       "      <th>2</th>\n",
       "      <td>0.108185</td>\n",
       "      <td>-0.287267</td>\n",
       "      <td>0.348881</td>\n",
       "      <td>0.954203</td>\n",
       "      <td>-1.037946</td>\n",
       "    </tr>\n",
       "    <tr>\n",
       "      <th>3</th>\n",
       "      <td>1.540117</td>\n",
       "      <td>0.142005</td>\n",
       "      <td>-1.809671</td>\n",
       "      <td>0.183935</td>\n",
       "      <td>-0.618700</td>\n",
       "    </tr>\n",
       "    <tr>\n",
       "      <th>4</th>\n",
       "      <td>-0.344579</td>\n",
       "      <td>-1.053315</td>\n",
       "      <td>-1.826047</td>\n",
       "      <td>1.269679</td>\n",
       "      <td>-1.049453</td>\n",
       "    </tr>\n",
       "  </tbody>\n",
       "</table>\n",
       "</div>"
      ],
      "text/plain": [
       "          A         B         C         D         E\n",
       "2  0.108185 -0.287267  0.348881  0.954203 -1.037946\n",
       "3  1.540117  0.142005 -1.809671  0.183935 -0.618700\n",
       "4 -0.344579 -1.053315 -1.826047  1.269679 -1.049453"
      ]
     },
     "execution_count": 57,
     "metadata": {},
     "output_type": "execute_result"
    }
   ],
   "source": [
    "df[1:4]"
   ]
  },
  {
   "cell_type": "markdown",
   "metadata": {},
   "source": [
    "选取某些列："
   ]
  },
  {
   "cell_type": "code",
   "execution_count": 58,
   "metadata": {},
   "outputs": [
    {
     "ename": "KeyError",
     "evalue": "\"['名字' '成绩'] not in index\"",
     "output_type": "error",
     "traceback": [
      "\u001b[1;31m---------------------------------------------------------------------------\u001b[0m",
      "\u001b[1;31mKeyError\u001b[0m                                  Traceback (most recent call last)",
      "\u001b[1;32m<ipython-input-58-153c276c84cc>\u001b[0m in \u001b[0;36m<module>\u001b[1;34m\u001b[0m\n\u001b[1;32m----> 1\u001b[1;33m \u001b[0mdf\u001b[0m\u001b[1;33m[\u001b[0m\u001b[1;33m[\u001b[0m\u001b[1;34m'名字'\u001b[0m\u001b[1;33m,\u001b[0m\u001b[1;34m'成绩'\u001b[0m\u001b[1;33m]\u001b[0m\u001b[1;33m]\u001b[0m\u001b[1;33m\u001b[0m\u001b[1;33m\u001b[0m\u001b[0m\n\u001b[0m",
      "\u001b[1;32mF:\\anaconda\\lib\\site-packages\\pandas\\core\\frame.py\u001b[0m in \u001b[0;36m__getitem__\u001b[1;34m(self, key)\u001b[0m\n\u001b[0;32m   2680\u001b[0m         \u001b[1;32mif\u001b[0m \u001b[0misinstance\u001b[0m\u001b[1;33m(\u001b[0m\u001b[0mkey\u001b[0m\u001b[1;33m,\u001b[0m \u001b[1;33m(\u001b[0m\u001b[0mSeries\u001b[0m\u001b[1;33m,\u001b[0m \u001b[0mnp\u001b[0m\u001b[1;33m.\u001b[0m\u001b[0mndarray\u001b[0m\u001b[1;33m,\u001b[0m \u001b[0mIndex\u001b[0m\u001b[1;33m,\u001b[0m \u001b[0mlist\u001b[0m\u001b[1;33m)\u001b[0m\u001b[1;33m)\u001b[0m\u001b[1;33m:\u001b[0m\u001b[1;33m\u001b[0m\u001b[1;33m\u001b[0m\u001b[0m\n\u001b[0;32m   2681\u001b[0m             \u001b[1;31m# either boolean or fancy integer index\u001b[0m\u001b[1;33m\u001b[0m\u001b[1;33m\u001b[0m\u001b[1;33m\u001b[0m\u001b[0m\n\u001b[1;32m-> 2682\u001b[1;33m             \u001b[1;32mreturn\u001b[0m \u001b[0mself\u001b[0m\u001b[1;33m.\u001b[0m\u001b[0m_getitem_array\u001b[0m\u001b[1;33m(\u001b[0m\u001b[0mkey\u001b[0m\u001b[1;33m)\u001b[0m\u001b[1;33m\u001b[0m\u001b[1;33m\u001b[0m\u001b[0m\n\u001b[0m\u001b[0;32m   2683\u001b[0m         \u001b[1;32melif\u001b[0m \u001b[0misinstance\u001b[0m\u001b[1;33m(\u001b[0m\u001b[0mkey\u001b[0m\u001b[1;33m,\u001b[0m \u001b[0mDataFrame\u001b[0m\u001b[1;33m)\u001b[0m\u001b[1;33m:\u001b[0m\u001b[1;33m\u001b[0m\u001b[1;33m\u001b[0m\u001b[0m\n\u001b[0;32m   2684\u001b[0m             \u001b[1;32mreturn\u001b[0m \u001b[0mself\u001b[0m\u001b[1;33m.\u001b[0m\u001b[0m_getitem_frame\u001b[0m\u001b[1;33m(\u001b[0m\u001b[0mkey\u001b[0m\u001b[1;33m)\u001b[0m\u001b[1;33m\u001b[0m\u001b[1;33m\u001b[0m\u001b[0m\n",
      "\u001b[1;32mF:\\anaconda\\lib\\site-packages\\pandas\\core\\frame.py\u001b[0m in \u001b[0;36m_getitem_array\u001b[1;34m(self, key)\u001b[0m\n\u001b[0;32m   2724\u001b[0m             \u001b[1;32mreturn\u001b[0m \u001b[0mself\u001b[0m\u001b[1;33m.\u001b[0m\u001b[0m_take\u001b[0m\u001b[1;33m(\u001b[0m\u001b[0mindexer\u001b[0m\u001b[1;33m,\u001b[0m \u001b[0maxis\u001b[0m\u001b[1;33m=\u001b[0m\u001b[1;36m0\u001b[0m\u001b[1;33m)\u001b[0m\u001b[1;33m\u001b[0m\u001b[1;33m\u001b[0m\u001b[0m\n\u001b[0;32m   2725\u001b[0m         \u001b[1;32melse\u001b[0m\u001b[1;33m:\u001b[0m\u001b[1;33m\u001b[0m\u001b[1;33m\u001b[0m\u001b[0m\n\u001b[1;32m-> 2726\u001b[1;33m             \u001b[0mindexer\u001b[0m \u001b[1;33m=\u001b[0m \u001b[0mself\u001b[0m\u001b[1;33m.\u001b[0m\u001b[0mloc\u001b[0m\u001b[1;33m.\u001b[0m\u001b[0m_convert_to_indexer\u001b[0m\u001b[1;33m(\u001b[0m\u001b[0mkey\u001b[0m\u001b[1;33m,\u001b[0m \u001b[0maxis\u001b[0m\u001b[1;33m=\u001b[0m\u001b[1;36m1\u001b[0m\u001b[1;33m)\u001b[0m\u001b[1;33m\u001b[0m\u001b[1;33m\u001b[0m\u001b[0m\n\u001b[0m\u001b[0;32m   2727\u001b[0m             \u001b[1;32mreturn\u001b[0m \u001b[0mself\u001b[0m\u001b[1;33m.\u001b[0m\u001b[0m_take\u001b[0m\u001b[1;33m(\u001b[0m\u001b[0mindexer\u001b[0m\u001b[1;33m,\u001b[0m \u001b[0maxis\u001b[0m\u001b[1;33m=\u001b[0m\u001b[1;36m1\u001b[0m\u001b[1;33m)\u001b[0m\u001b[1;33m\u001b[0m\u001b[1;33m\u001b[0m\u001b[0m\n\u001b[0;32m   2728\u001b[0m \u001b[1;33m\u001b[0m\u001b[0m\n",
      "\u001b[1;32mF:\\anaconda\\lib\\site-packages\\pandas\\core\\indexing.py\u001b[0m in \u001b[0;36m_convert_to_indexer\u001b[1;34m(self, obj, axis, is_setter)\u001b[0m\n\u001b[0;32m   1325\u001b[0m                 \u001b[1;32mif\u001b[0m \u001b[0mmask\u001b[0m\u001b[1;33m.\u001b[0m\u001b[0many\u001b[0m\u001b[1;33m(\u001b[0m\u001b[1;33m)\u001b[0m\u001b[1;33m:\u001b[0m\u001b[1;33m\u001b[0m\u001b[1;33m\u001b[0m\u001b[0m\n\u001b[0;32m   1326\u001b[0m                     raise KeyError('{mask} not in index'\n\u001b[1;32m-> 1327\u001b[1;33m                                    .format(mask=objarr[mask]))\n\u001b[0m\u001b[0;32m   1328\u001b[0m \u001b[1;33m\u001b[0m\u001b[0m\n\u001b[0;32m   1329\u001b[0m                 \u001b[1;32mreturn\u001b[0m \u001b[0mcom\u001b[0m\u001b[1;33m.\u001b[0m\u001b[0m_values_from_object\u001b[0m\u001b[1;33m(\u001b[0m\u001b[0mindexer\u001b[0m\u001b[1;33m)\u001b[0m\u001b[1;33m\u001b[0m\u001b[1;33m\u001b[0m\u001b[0m\n",
      "\u001b[1;31mKeyError\u001b[0m: \"['名字' '成绩'] not in index\""
     ]
    }
   ],
   "source": [
    "df[['名字','成绩']]"
   ]
  },
  {
   "cell_type": "markdown",
   "metadata": {},
   "source": [
    "选取某些行："
   ]
  },
  {
   "cell_type": "code",
   "execution_count": 59,
   "metadata": {},
   "outputs": [
    {
     "data": {
      "text/html": [
       "<div>\n",
       "<style scoped>\n",
       "    .dataframe tbody tr th:only-of-type {\n",
       "        vertical-align: middle;\n",
       "    }\n",
       "\n",
       "    .dataframe tbody tr th {\n",
       "        vertical-align: top;\n",
       "    }\n",
       "\n",
       "    .dataframe thead th {\n",
       "        text-align: right;\n",
       "    }\n",
       "</style>\n",
       "<table border=\"1\" class=\"dataframe\">\n",
       "  <thead>\n",
       "    <tr style=\"text-align: right;\">\n",
       "      <th></th>\n",
       "      <th>A</th>\n",
       "      <th>B</th>\n",
       "      <th>C</th>\n",
       "      <th>D</th>\n",
       "      <th>E</th>\n",
       "    </tr>\n",
       "  </thead>\n",
       "  <tbody>\n",
       "    <tr>\n",
       "      <th>1</th>\n",
       "      <td>0.416440</td>\n",
       "      <td>0.477595</td>\n",
       "      <td>-0.591076</td>\n",
       "      <td>1.200177</td>\n",
       "      <td>-0.337426</td>\n",
       "    </tr>\n",
       "    <tr>\n",
       "      <th>2</th>\n",
       "      <td>0.108185</td>\n",
       "      <td>-0.287267</td>\n",
       "      <td>0.348881</td>\n",
       "      <td>0.954203</td>\n",
       "      <td>-1.037946</td>\n",
       "    </tr>\n",
       "  </tbody>\n",
       "</table>\n",
       "</div>"
      ],
      "text/plain": [
       "          A         B         C         D         E\n",
       "1  0.416440  0.477595 -0.591076  1.200177 -0.337426\n",
       "2  0.108185 -0.287267  0.348881  0.954203 -1.037946"
      ]
     },
     "execution_count": 59,
     "metadata": {},
     "output_type": "execute_result"
    }
   ],
   "source": [
    "df.head(2)    #前2行，不带参数的话就是默认前5行"
   ]
  },
  {
   "cell_type": "code",
   "execution_count": 60,
   "metadata": {},
   "outputs": [
    {
     "data": {
      "text/html": [
       "<div>\n",
       "<style scoped>\n",
       "    .dataframe tbody tr th:only-of-type {\n",
       "        vertical-align: middle;\n",
       "    }\n",
       "\n",
       "    .dataframe tbody tr th {\n",
       "        vertical-align: top;\n",
       "    }\n",
       "\n",
       "    .dataframe thead th {\n",
       "        text-align: right;\n",
       "    }\n",
       "</style>\n",
       "<table border=\"1\" class=\"dataframe\">\n",
       "  <thead>\n",
       "    <tr style=\"text-align: right;\">\n",
       "      <th></th>\n",
       "      <th>A</th>\n",
       "      <th>B</th>\n",
       "      <th>C</th>\n",
       "      <th>D</th>\n",
       "      <th>E</th>\n",
       "    </tr>\n",
       "  </thead>\n",
       "  <tbody>\n",
       "    <tr>\n",
       "      <th>1</th>\n",
       "      <td>0.416440</td>\n",
       "      <td>0.477595</td>\n",
       "      <td>-0.591076</td>\n",
       "      <td>1.200177</td>\n",
       "      <td>-0.337426</td>\n",
       "    </tr>\n",
       "    <tr>\n",
       "      <th>2</th>\n",
       "      <td>0.108185</td>\n",
       "      <td>-0.287267</td>\n",
       "      <td>0.348881</td>\n",
       "      <td>0.954203</td>\n",
       "      <td>-1.037946</td>\n",
       "    </tr>\n",
       "  </tbody>\n",
       "</table>\n",
       "</div>"
      ],
      "text/plain": [
       "          A         B         C         D         E\n",
       "1  0.416440  0.477595 -0.591076  1.200177 -0.337426\n",
       "2  0.108185 -0.287267  0.348881  0.954203 -1.037946"
      ]
     },
     "execution_count": 60,
     "metadata": {},
     "output_type": "execute_result"
    }
   ],
   "source": [
    "df[:2]"
   ]
  },
  {
   "cell_type": "code",
   "execution_count": null,
   "metadata": {},
   "outputs": [],
   "source": [
    "df.tail(2)    #最后2行，不带参数的话就是默认最后5行"
   ]
  },
  {
   "cell_type": "code",
   "execution_count": null,
   "metadata": {},
   "outputs": [],
   "source": [
    "df.sample(2)  #随机选2行"
   ]
  },
  {
   "cell_type": "code",
   "execution_count": null,
   "metadata": {},
   "outputs": [],
   "source": [
    "df[['名字','成绩']][1:3]    #用切片选择某些行"
   ]
  },
  {
   "cell_type": "code",
   "execution_count": null,
   "metadata": {},
   "outputs": [],
   "source": [
    "df[df['成绩']>=60]       #花式切片"
   ]
  },
  {
   "cell_type": "code",
   "execution_count": null,
   "metadata": {},
   "outputs": [],
   "source": [
    "df['成绩']>=60"
   ]
  },
  {
   "cell_type": "markdown",
   "metadata": {},
   "source": [
    "有时候我们也这样写，更清楚一些，结果其实和上面的写法是一样的："
   ]
  },
  {
   "cell_type": "code",
   "execution_count": null,
   "metadata": {},
   "outputs": [],
   "source": [
    "df[df.成绩>=60]"
   ]
  },
  {
   "cell_type": "markdown",
   "metadata": {},
   "source": [
    "### 增加数据"
   ]
  },
  {
   "cell_type": "code",
   "execution_count": null,
   "metadata": {},
   "outputs": [],
   "source": [
    "df['性别1']=pd.Series(['男','女','男',np.nan,'男'])  #添加列\n",
    "df"
   ]
  },
  {
   "cell_type": "code",
   "execution_count": null,
   "metadata": {},
   "outputs": [],
   "source": [
    "df['班级']=1690011   #跟算术运算一样，会自动广播到各行\n",
    "df"
   ]
  },
  {
   "cell_type": "code",
   "execution_count": null,
   "metadata": {},
   "outputs": [],
   "source": [
    "df['学号']=int(df.ID)-df.班级*100\n",
    "df"
   ]
  },
  {
   "cell_type": "code",
   "execution_count": null,
   "metadata": {},
   "outputs": [],
   "source": [
    "df['id_int']=df.ID.map(lambda x: int(x))\n",
    "df"
   ]
  },
  {
   "cell_type": "code",
   "execution_count": null,
   "metadata": {},
   "outputs": [],
   "source": [
    "df['学号']=df.id_int-df.班级*100\n",
    "df"
   ]
  },
  {
   "cell_type": "code",
   "execution_count": null,
   "metadata": {},
   "outputs": [],
   "source": [
    "df['及格']=df['成绩'].map(lambda x: '通过' if x>=60 else '挂科')    #强大的map函数，按条件添加新的行\n",
    "df"
   ]
  },
  {
   "cell_type": "code",
   "execution_count": null,
   "metadata": {},
   "outputs": [],
   "source": [
    "df.append(pd.DataFrame([{'名字':'吴八','成绩':45,'ID':'169001106','班级':1690011,'性别':'女','及格':'挂科'}],\\\n",
    "                       index=[5])\\\n",
    "          ,sort=False)               #添加行其实就是追加一个相同结构的DataFrame\n"
   ]
  },
  {
   "cell_type": "code",
   "execution_count": null,
   "metadata": {},
   "outputs": [],
   "source": [
    "df"
   ]
  },
  {
   "cell_type": "code",
   "execution_count": null,
   "metadata": {},
   "outputs": [],
   "source": [
    "df=df.append(pd.DataFrame([{'名字':'吴八','成绩':45,'ID':'169001106','班级':1690011,'性别':'女','及格':'挂科'}]),\\\n",
    "          sort=False, ignore_index=True)               #若ignore_index=Ture则会对所有的行重新自动建立索引\n",
    "df"
   ]
  },
  {
   "cell_type": "markdown",
   "metadata": {},
   "source": [
    "### 删除数据"
   ]
  },
  {
   "cell_type": "code",
   "execution_count": null,
   "metadata": {},
   "outputs": [],
   "source": [
    "df.drop([5])                  #默认删除的是行"
   ]
  },
  {
   "cell_type": "code",
   "execution_count": null,
   "metadata": {},
   "outputs": [],
   "source": [
    "df.drop(['性别1'],axis=1)         #删除列"
   ]
  },
  {
   "cell_type": "code",
   "execution_count": null,
   "metadata": {},
   "outputs": [],
   "source": [
    "df                           #原始数据并未改变，要在原有的数据基础上删除，需要添加inplace=True参数，请自己试试"
   ]
  },
  {
   "cell_type": "markdown",
   "metadata": {},
   "source": [
    "### 修改标签 （修改数据按照访问数据的方式即可）"
   ]
  },
  {
   "cell_type": "code",
   "execution_count": null,
   "metadata": {},
   "outputs": [],
   "source": [
    "df.rename(columns={'ID':'学号'}, inplace=True)      #修改列标签\n",
    "df"
   ]
  },
  {
   "cell_type": "code",
   "execution_count": null,
   "metadata": {},
   "outputs": [],
   "source": [
    "df['学号']"
   ]
  },
  {
   "cell_type": "code",
   "execution_count": null,
   "metadata": {},
   "outputs": [],
   "source": [
    "df.rename(index={4:5})                        # 修改行标签，没使用inplace参数，就不会修改原DataFrame"
   ]
  },
  {
   "cell_type": "code",
   "execution_count": null,
   "metadata": {},
   "outputs": [],
   "source": [
    "df.set_index('名字', inplace=True)        #将某一列的值设为行标签"
   ]
  },
  {
   "cell_type": "code",
   "execution_count": null,
   "metadata": {},
   "outputs": [],
   "source": [
    "df"
   ]
  },
  {
   "cell_type": "code",
   "execution_count": null,
   "metadata": {},
   "outputs": [],
   "source": [
    "df['成绩']['李四']"
   ]
  },
  {
   "cell_type": "markdown",
   "metadata": {},
   "source": [
    "### 排序"
   ]
  },
  {
   "cell_type": "code",
   "execution_count": null,
   "metadata": {},
   "outputs": [],
   "source": [
    "df.sort_values('成绩')"
   ]
  },
  {
   "cell_type": "code",
   "execution_count": null,
   "metadata": {},
   "outputs": [],
   "source": [
    "df.sort_values('成绩',ascending=False)"
   ]
  },
  {
   "cell_type": "code",
   "execution_count": null,
   "metadata": {},
   "outputs": [],
   "source": [
    "df.成绩.rank(ascending=False)         #不改变顺序，但是给出名次"
   ]
  },
  {
   "cell_type": "markdown",
   "metadata": {},
   "source": [
    "提问：如何把上面这个输出的标签改为名字呢？这样可以很快的看出是谁排第几名，能按名次排序就更好了"
   ]
  },
  {
   "cell_type": "markdown",
   "metadata": {},
   "source": [
    "<div align=\"right\">\n",
    "<a href=\"#assign\" class=\"btn btn-default\" data-toggle=\"collapse\">点击获取答案</a>\n",
    "</div>\n",
    "<div id=\"assign\" class=\"collapse\">\n",
    "\n",
    "```\n",
    "df.set_index('名字').成绩.rank(ascending=False).sort_values()\n",
    "```\n",
    "\n",
    "</div>"
   ]
  },
  {
   "cell_type": "code",
   "execution_count": null,
   "metadata": {},
   "outputs": [],
   "source": [
    "df.set_index('名字').成绩.rank(ascending=False).sort_values()"
   ]
  },
  {
   "cell_type": "markdown",
   "metadata": {},
   "source": [
    "### 强大的groupby"
   ]
  },
  {
   "cell_type": "code",
   "execution_count": null,
   "metadata": {},
   "outputs": [],
   "source": [
    "df.groupby('性别')['成绩'].mean()"
   ]
  },
  {
   "cell_type": "markdown",
   "metadata": {},
   "source": [
    "提问：怎么统计所有及格同学的平均分，以及不及格同学的平均分呢？"
   ]
  },
  {
   "cell_type": "markdown",
   "metadata": {},
   "source": [
    "<div align=\"right\">\n",
    "<a href=\"#assign1\" class=\"btn btn-default\" data-toggle=\"collapse\">点击获取答案</a>\n",
    "</div>\n",
    "<div id=\"assign1\" class=\"collapse\">\n",
    "\n",
    "```\n",
    "df.groupby('及格')['成绩'].mean()\n",
    "```\n",
    "\n",
    "</div>"
   ]
  },
  {
   "cell_type": "code",
   "execution_count": null,
   "metadata": {},
   "outputs": [],
   "source": [
    "df.groupby('及格')['成绩'].mean()"
   ]
  },
  {
   "cell_type": "code",
   "execution_count": null,
   "metadata": {},
   "outputs": [],
   "source": [
    "df.groupby(['性别','及格']).size()     # 注意这里出现了多重标签，这是Pandas非常强大的功能，以后能看到"
   ]
  },
  {
   "cell_type": "code",
   "execution_count": null,
   "metadata": {},
   "outputs": [],
   "source": [
    "type(df.groupby(['性别','及格']).size())"
   ]
  },
  {
   "cell_type": "code",
   "execution_count": null,
   "metadata": {},
   "outputs": [],
   "source": [
    "df.groupby(['性别','及格']).size().unstack()"
   ]
  },
  {
   "cell_type": "markdown",
   "metadata": {},
   "source": [
    "### 案例2 真实数据算红包"
   ]
  },
  {
   "cell_type": "code",
   "execution_count": null,
   "metadata": {},
   "outputs": [],
   "source": [
    "import pandas as pd\n",
    "import numpy as np\n",
    "roster=pd.ExcelFile('roster.xls')     #读excel文件\n",
    "\n",
    "df=roster.parse('11')\n",
    "df"
   ]
  },
  {
   "cell_type": "code",
   "execution_count": null,
   "metadata": {},
   "outputs": [],
   "source": [
    "a=np.random.rand(len(df))     #生成随机数\n",
    "redPocket=np.round(a/sum(a) * 100, 2)   \n",
    "redPocket[-1]=100-sum(redPocket[:-1])\n",
    "df['redPocket1']=redPocket\n",
    "df"
   ]
  },
  {
   "cell_type": "code",
   "execution_count": null,
   "metadata": {},
   "outputs": [],
   "source": [
    "df['total']=df.redPocket+df.redPocket1\n",
    "df"
   ]
  },
  {
   "cell_type": "code",
   "execution_count": null,
   "metadata": {},
   "outputs": [],
   "source": [
    "df[df.name=='张峰'].redPocket"
   ]
  },
  {
   "cell_type": "code",
   "execution_count": null,
   "metadata": {},
   "outputs": [],
   "source": [
    "df[df.id==169002224].redPocket"
   ]
  },
  {
   "cell_type": "code",
   "execution_count": null,
   "metadata": {},
   "outputs": [],
   "source": [
    "df.sort_values('total', ascending=False)"
   ]
  },
  {
   "cell_type": "markdown",
   "metadata": {},
   "source": [
    "牛刀小试：模仿上述代码，再发一次红包，保存在新的列中，然后计算每个人两次收的红包和，也新加一列存放，输出两次红包总和的运气王的名字和他/她的红包总数。\n"
   ]
  },
  {
   "cell_type": "markdown",
   "metadata": {},
   "source": [
    "<div align=\"right\">\n",
    "<a href=\"#assign\" class=\"btn btn-default\" data-toggle=\"collapse\">点击获取答案</a>\n",
    "</div>\n",
    "<div id=\"assign\" class=\"collapse\">\n",
    "\n",
    "```\n",
    "a=np.random.rand(len(df))     #生成随机数\n",
    "redPocket=np.round(a/sum(a) * 100, 2)   \n",
    "redPocket[-1]=100-sum(redPocket[:-1])\n",
    "df['redPocket1']=redPocket\n",
    "\n",
    "df['total']=df.redPocket+df.redPocket1\n",
    "winner=df.sort_values('total',ascending=False)[:1]\n",
    "#print(winner)\n",
    "#print('-----------------')\n",
    "print(\"运气王是:\",winner.name.values[0],\", 总数为:\",winner.total.values[0])\n",
    "```\n",
    "\n",
    "</div>"
   ]
  },
  {
   "cell_type": "code",
   "execution_count": null,
   "metadata": {},
   "outputs": [],
   "source": []
  },
  {
   "cell_type": "markdown",
   "metadata": {},
   "source": [
    "### 案例3 世界杯"
   ]
  },
  {
   "cell_type": "code",
   "execution_count": null,
   "metadata": {},
   "outputs": [],
   "source": [
    "worldcupDF=pd.read_csv(\"WorldCupMatches.csv\")\n",
    "worldcupDF"
   ]
  },
  {
   "cell_type": "markdown",
   "metadata": {},
   "source": [
    "先查看一下基本信息："
   ]
  },
  {
   "cell_type": "code",
   "execution_count": null,
   "metadata": {},
   "outputs": [],
   "source": [
    "worldcupDF.shape"
   ]
  },
  {
   "cell_type": "code",
   "execution_count": null,
   "metadata": {},
   "outputs": [],
   "source": [
    "worldcupDF.head()"
   ]
  },
  {
   "cell_type": "code",
   "execution_count": null,
   "metadata": {},
   "outputs": [],
   "source": [
    "worldcupDF.tail()"
   ]
  },
  {
   "cell_type": "markdown",
   "metadata": {},
   "source": [
    "我们看到有很多空数据，先去掉这些空数据："
   ]
  },
  {
   "cell_type": "code",
   "execution_count": null,
   "metadata": {},
   "outputs": [],
   "source": [
    "worldcupDF.dropna(inplace=True)\n",
    "print('总共',len(worldcupDF),'场比赛')\n",
    "worldcupDF.head()"
   ]
  },
  {
   "cell_type": "markdown",
   "metadata": {},
   "source": [
    "看看包含哪些列："
   ]
  },
  {
   "cell_type": "code",
   "execution_count": null,
   "metadata": {},
   "outputs": [],
   "source": [
    "worldcupDF.columns"
   ]
  },
  {
   "cell_type": "markdown",
   "metadata": {},
   "source": [
    "很多数据我们都不需要，比如具体时间，在哪个体育场，裁判是谁等等。我们只要输赢数据和球队名称，还有比赛类型就够了。"
   ]
  },
  {
   "cell_type": "code",
   "execution_count": null,
   "metadata": {},
   "outputs": [],
   "source": [
    "df=worldcupDF.dropna()[['Year','Stage','Home Team Name','Home Team Goals', 'Away Team Goals', 'Away Team Name','Half-time Home Goals',\n",
    "       'Half-time Away Goals']]\n",
    "print(df.shape)\n",
    "df.head()"
   ]
  },
  {
   "cell_type": "code",
   "execution_count": null,
   "metadata": {},
   "outputs": [],
   "source": [
    "df.tail()"
   ]
  },
  {
   "cell_type": "markdown",
   "metadata": {},
   "source": [
    "一共有哪些队伍？先看看主队吧："
   ]
  },
  {
   "cell_type": "code",
   "execution_count": null,
   "metadata": {},
   "outputs": [],
   "source": [
    "df['Home Team Name'].unique()"
   ]
  },
  {
   "cell_type": "markdown",
   "metadata": {},
   "source": [
    "那么谁能告诉我主队一共有多少支呢？\n",
    "\n",
    "<div align=\"right\">\n",
    "<a href=\"#wc1\" class=\"btn btn-default\" data-toggle=\"collapse\">点击获取答案</a>\n",
    "</div>\n",
    "<div id=\"wc1\" class=\"collapse\">\n",
    "\n",
    "```\n",
    "df['Home Team Name'].unique().size\n",
    "```\n",
    "</div>"
   ]
  },
  {
   "cell_type": "code",
   "execution_count": null,
   "metadata": {},
   "outputs": [],
   "source": [
    "len(df['Home Team Name'].unique())"
   ]
  },
  {
   "cell_type": "markdown",
   "metadata": {},
   "source": [
    "客队有多少支？主队和客队的支数相等吗？请写出你的代码："
   ]
  },
  {
   "cell_type": "code",
   "execution_count": null,
   "metadata": {},
   "outputs": [],
   "source": [
    "len(df['Away Team Name'].unique())"
   ]
  },
  {
   "cell_type": "markdown",
   "metadata": {},
   "source": [
    "怎么找到那些只属于主队或者只属于客队的队伍呢？\n",
    "\n",
    "<div align=\"right\">\n",
    "<a href=\"#wc2\" class=\"btn btn-default\" data-toggle=\"collapse\">点击获取答案</a>\n",
    "</div>\n",
    "<div id=\"wc2\" class=\"collapse\">\n",
    "\n",
    "```\n",
    "set(df['Home Team Name'].unique())^set(df['Away Team Name'].unique())\n",
    "```\n",
    "\n",
    "</div>"
   ]
  },
  {
   "cell_type": "code",
   "execution_count": null,
   "metadata": {},
   "outputs": [],
   "source": [
    "set(df['Home Team Name'].unique())^set(df['Away Team Name'].unique())"
   ]
  },
  {
   "cell_type": "markdown",
   "metadata": {},
   "source": [
    "我们来看看这些国家是怎么回事，比如以色列："
   ]
  },
  {
   "cell_type": "code",
   "execution_count": null,
   "metadata": {},
   "outputs": [],
   "source": [
    "df[df['Home Team Name']=='Israel']"
   ]
  },
  {
   "cell_type": "code",
   "execution_count": null,
   "metadata": {},
   "outputs": [],
   "source": [
    "df[df['Away Team Name']=='Israel']"
   ]
  },
  {
   "cell_type": "markdown",
   "metadata": {},
   "source": [
    "看来世界杯的主客队是随机抽取的啊"
   ]
  },
  {
   "cell_type": "markdown",
   "metadata": {},
   "source": [
    "我们顺便再来看看中国："
   ]
  },
  {
   "cell_type": "code",
   "execution_count": null,
   "metadata": {},
   "outputs": [],
   "source": [
    "df[(df['Home Team Name']=='China PR') | \n",
    "   (df['Away Team Name']=='China PR')]  #Pandas的逻辑运算和python的不一样"
   ]
  },
  {
   "cell_type": "code",
   "execution_count": null,
   "metadata": {},
   "outputs": [],
   "source": []
  },
  {
   "cell_type": "markdown",
   "metadata": {},
   "source": [
    "我们来看看一共有哪些比赛类别（stage）吧。。。你能统计一下所有的比赛类别吗？\n",
    "\n",
    "<div align=\"right\">\n",
    "<a href=\"#wc3\" class=\"btn btn-default\" data-toggle=\"collapse\">点击获取答案</a>\n",
    "</div>\n",
    "<div id=\"wc3\" class=\"collapse\">\n",
    "\n",
    "```\n",
    "print(df.Stage.unique().size)\n",
    "df.Stage.unique()\n",
    "```\n",
    "\n",
    "</div>"
   ]
  },
  {
   "cell_type": "code",
   "execution_count": null,
   "metadata": {},
   "outputs": [],
   "source": [
    "print(df.Stage.unique().size)\n",
    "df.Stage.unique()"
   ]
  },
  {
   "cell_type": "code",
   "execution_count": null,
   "metadata": {},
   "outputs": [],
   "source": [
    "print(df.Stage.unique().size)\n",
    "df.Stage.unique()"
   ]
  },
  {
   "cell_type": "code",
   "execution_count": null,
   "metadata": {},
   "outputs": [],
   "source": [
    "df[df.Stage=='Preliminary round']       #我们来看看这个'Preliminary round'是什么东东"
   ]
  },
  {
   "cell_type": "markdown",
   "metadata": {},
   "source": [
    "为啥1934年世界杯这么特殊呢？百度一下，原来：\n",
    "\n",
    "1934年意大利世界杯是国际足联世界杯足球赛举办的第2届赛事。本届赛事共有来自4大洲足联的16支球队参赛，16支球队通过各大洲足联举办的预选赛事获得参赛资格，连东道主意大利队也要通过预选赛来获得参赛资格。1934年意大利世界杯没有分组比赛，只进行单淘汰赛。如果两队在90分钟内打平，将进行30分钟加时赛。120分钟后仍是平局，将进行重赛，而不是通过罚点球决出胜负。\n",
    "\n",
    "原来如此，我们看看这次世界杯的所有比赛吧，你能列出1934年第二届世界杯的所有比赛吗？\n",
    "\n",
    "<div align=\"right\">\n",
    "<a href=\"#wc4\" class=\"btn btn-default\" data-toggle=\"collapse\">点击获取答案</a>\n",
    "</div>\n",
    "<div id=\"wc4\" class=\"collapse\">\n",
    "\n",
    "```\n",
    "df[df.Year==1934]\n",
    "```\n",
    "\n",
    "</div>"
   ]
  },
  {
   "cell_type": "markdown",
   "metadata": {},
   "source": [
    "找到总进球数最多的比赛并排序？"
   ]
  },
  {
   "cell_type": "markdown",
   "metadata": {},
   "source": [
    "<div align=\"right\">\n",
    "<a href=\"#wc5\" class=\"btn btn-default\" data-toggle=\"collapse\">点击获取答案</a>\n",
    "</div>\n",
    "<div id=\"wc5\" class=\"collapse\">\n",
    "\n",
    "```\n",
    "df['Total Goals']=df['Home Team Goals']+df['Away Team Goals']\n",
    "df.sort_values('Total Goals',ascending=False).head()\n",
    "```\n",
    "\n",
    "</div>"
   ]
  },
  {
   "cell_type": "code",
   "execution_count": null,
   "metadata": {},
   "outputs": [],
   "source": [
    "df['Total Goals']=df['Home Team Goals']+df['Away Team Goals']\n",
    "df.sort_values('Total Goals',ascending=False).head()"
   ]
  },
  {
   "cell_type": "code",
   "execution_count": null,
   "metadata": {},
   "outputs": [],
   "source": []
  },
  {
   "cell_type": "code",
   "execution_count": null,
   "metadata": {},
   "outputs": [],
   "source": [
    "a=pd.concat([df.groupby('Year')['Away Team Name'].unique(), df.groupby('Year')['Home Team Name'].unique()],axis=1)\n",
    "#a['all']=a['Away Team Name'].map(lambda line: np.array(set(line)|set(a['Home Team Name'])))"
   ]
  },
  {
   "cell_type": "code",
   "execution_count": null,
   "metadata": {},
   "outputs": [],
   "source": [
    "homeDF=df[['Year','Home Team Name']].copy()\n",
    "homeDF.rename(columns={'Home Team Name':'Team'}, inplace=True)\n",
    "awayDF=df[['Year','Away Team Name']].copy()\n",
    "awayDF.rename(columns={'Away Team Name':'Team'}, inplace=True)"
   ]
  },
  {
   "cell_type": "code",
   "execution_count": null,
   "metadata": {},
   "outputs": [],
   "source": [
    "allDF=homeDF.append(awayDF)"
   ]
  },
  {
   "cell_type": "code",
   "execution_count": null,
   "metadata": {},
   "outputs": [],
   "source": [
    "allDF.shape"
   ]
  },
  {
   "cell_type": "code",
   "execution_count": null,
   "metadata": {
    "scrolled": true
   },
   "outputs": [],
   "source": [
    "allDF"
   ]
  },
  {
   "cell_type": "code",
   "execution_count": null,
   "metadata": {},
   "outputs": [],
   "source": [
    "#allDF.groupby('Team').Year.value_counts().unstack().T.count().sort_values(ascending=False)[:10].plot(kind='barh')"
   ]
  },
  {
   "cell_type": "code",
   "execution_count": null,
   "metadata": {},
   "outputs": [],
   "source": [
    "allDF.groupby('Team').Year.size()"
   ]
  },
  {
   "cell_type": "code",
   "execution_count": null,
   "metadata": {},
   "outputs": [],
   "source": [
    "allDF.groupby('Team').Year.unique()"
   ]
  },
  {
   "cell_type": "code",
   "execution_count": null,
   "metadata": {},
   "outputs": [],
   "source": [
    "a='''\n",
    "import numpy as np\n",
    "a=allDF.groupby(allDF.Team).Year.unique()\n",
    "ai=a.index\n",
    "times=list()\n",
    "for item in allDF.groupby(allDF.Team).Year.unique():\n",
    "    #print(item.size)\n",
    "    times.append(item.size) \n",
    "ts=pd.Series(times,index=ai)\n",
    "ts.sort_values(ascending=False)'''"
   ]
  },
  {
   "cell_type": "code",
   "execution_count": null,
   "metadata": {},
   "outputs": [],
   "source": [
    "rank=allDF.groupby('Team').Year.unique().map(lambda i:i.size).sort_values(ascending=False)"
   ]
  },
  {
   "cell_type": "code",
   "execution_count": null,
   "metadata": {},
   "outputs": [],
   "source": [
    "%matplotlib inline\n",
    "%config InlineBackend.figure_format = 'retina'"
   ]
  },
  {
   "cell_type": "code",
   "execution_count": null,
   "metadata": {},
   "outputs": [],
   "source": [
    "rank[rank==1].size"
   ]
  },
  {
   "cell_type": "code",
   "execution_count": null,
   "metadata": {},
   "outputs": [],
   "source": [
    "import matplotlib.pyplot as plt\n",
    "rank[:10].plot(kind='barh')"
   ]
  },
  {
   "cell_type": "code",
   "execution_count": null,
   "metadata": {},
   "outputs": [],
   "source": [
    "#set(df.groupby('Year')['Home Team Name'].unique()[1934]) | set(df.groupby('Year')['Away Team Name'].unique()[1934])"
   ]
  },
  {
   "cell_type": "code",
   "execution_count": null,
   "metadata": {},
   "outputs": [],
   "source": [
    "#jupyter 内的matplotlib支持\n",
    "%matplotlib inline \n",
    "%config InlineBackend.figure_format = 'retina'  #高清屏支持\n"
   ]
  },
  {
   "cell_type": "code",
   "execution_count": null,
   "metadata": {},
   "outputs": [],
   "source": []
  }
 ],
 "metadata": {
  "kernelspec": {
   "display_name": "Python 3",
   "language": "python",
   "name": "python3"
  },
  "language_info": {
   "codemirror_mode": {
    "name": "ipython",
    "version": 3
   },
   "file_extension": ".py",
   "mimetype": "text/x-python",
   "name": "python",
   "nbconvert_exporter": "python",
   "pygments_lexer": "ipython3",
   "version": "3.7.1"
  },
  "toc": {
   "base_numbering": "8",
   "nav_menu": {},
   "number_sections": true,
   "sideBar": true,
   "skip_h1_title": false,
   "title_cell": "目录",
   "title_sidebar": "目录",
   "toc_cell": true,
   "toc_position": {
    "height": "calc(100% - 180px)",
    "left": "10px",
    "top": "150px",
    "width": "165px"
   },
   "toc_section_display": true,
   "toc_window_display": false
  }
 },
 "nbformat": 4,
 "nbformat_minor": 2
}
