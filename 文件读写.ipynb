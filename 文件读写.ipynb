{
 "cells": [
  {
   "cell_type": "markdown",
   "metadata": {},
   "source": [
    "#按大小块读取（使用双斜杠避免转义问题,或者使反斜杠）"
   ]
  },
  {
   "cell_type": "code",
   "execution_count": 1,
   "metadata": {},
   "outputs": [
    {
     "name": "stdout",
     "output_type": "stream",
     "text": [
      "ll        :查找当前目录下资源；\n",
      "ls -lA\t  :查找隐藏资源；\n",
      "ls -l|less:分屏查看；\n",
      "cd +文件名:进入改目录；\n",
      "mkdir     :新建目录；\n",
      "git init  :初始化本地仓库\n",
      "\n",
      "git congif use.name 用户名(仅在当前库有效)\n",
      "git config user.email 邮箱(仅在当前库有效)\n",
      "\n",
      "git config --global use.name 用户名(系统用户级)\n",
      "git config --global user.email 邮箱(系统用户级)\n",
      "\n",
      "git status:查看本地仓情况\n",
      "git add +文件 \t    :添加到暂存区\n",
      "git add -A.          表示添加所有内容，\n",
      "git add.             表示添加新文件和编辑过的文件不包括删除的文件;\n",
      "git add -u.          表示添加编辑或者删除的文件，不包括新添加的文件\n",
      "git rm --cached 文件:从暂存区移除\n",
      "git commit  文件    :提交到本地库\n",
      "git commit -m \"commit message\" 不加文件名，提交全部\n",
      "git commit -m \"commit message\" 文件名\n",
      "git log --pretty=oneline 显示提交日志\n",
      "git reflog  显示版本移动步数\n",
      "git reset --hard +要回溯或者前进到版本的hash索引值\n",
      "（soft：仅在本地库移动head指针）\n",
      "（mix ：在本地库移动head指针，重置暂存区）\n",
      "（hard：在本地库移动head指针，重置暂存区，重置工作区）\n",
      "\n",
      "删除文件找回：\n",
      "前提：删除前，文件存在时的状态提交到了本地库\n",
      "操作：git reset --hard+指针位置\n",
      "删除操作已经提交：指针位置指向历史记录\n",
      "删除操作尚未提交：指针位置使用head\n",
      "\n",
      "git diff 文件名:比较文件差异 （将工作区文件与暂存区文件进行比较）\n",
      "git diff 本地库中的历史版本 文件名（将工作区的文件和本地库的历史记录比较）\n",
      "git diff 不带文件名 （比较多个文件）\n",
      "\n",
      "git branch 分支名    :创建分支\n",
      "git checkout 分支名  :切换分支\n",
      "合并分支：\n",
      "第一步：切换到接受修改的分支（被合并，增加新内容）上\n",
      "第二步：执行merge\n",
      "git merge 分支名  （将有新内容的该分支调价到当前分支）\n",
      "\n",
      "git remote add 本地别名 远程仓库地址   （在本地仓库创建远程仓库别名）\n",
      "git push 本地仓库别名 要推送的分支名\n",
      "git pull 本地仓库别名 要抓取的分支名    （pull=fetch+merge）\n",
      "git fetch 本地仓库别名 要抓取的分支名\n",
      "git merge 本地仓库别名 要抓取的分支名\n",
      "git clone 远程仓库下载地址（完整的把远程库下载到本地、创建远程地址别名、初始化本地库）\n",
      "\n",
      "\n",
      "\n",
      "\n",
      "\n",
      "\n",
      "\n",
      "\n",
      "\n",
      "\n",
      "\n",
      "\n",
      "\n",
      "\n",
      "\n",
      "\n",
      "\n",
      "\n",
      "\n",
      "\n",
      "\n",
      "vm编辑器:i进入编辑模式；esc :wq写入退出\n",
      "\n"
     ]
    }
   ],
   "source": [
    "f = open('C:/Users/Administrator/Desktop/git指令.txt')\n",
    "while True:\n",
    "    lines = f.readlines(10000)\n",
    "    if not lines:\n",
    "        break\n",
    "    for line in lines:\n",
    "        print (line.strip())"
   ]
  }
 ],
 "metadata": {
  "kernelspec": {
   "display_name": "Python 3",
   "language": "python",
   "name": "python3"
  },
  "language_info": {
   "codemirror_mode": {
    "name": "ipython",
    "version": 3
   },
   "file_extension": ".py",
   "mimetype": "text/x-python",
   "name": "python",
   "nbconvert_exporter": "python",
   "pygments_lexer": "ipython3",
   "version": "3.7.1"
  }
 },
 "nbformat": 4,
 "nbformat_minor": 2
}
